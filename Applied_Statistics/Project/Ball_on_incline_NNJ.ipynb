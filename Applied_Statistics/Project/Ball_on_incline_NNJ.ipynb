{
 "cells": [
  {
   "cell_type": "markdown",
   "metadata": {},
   "source": [
    "# Ball on incline\n",
    "\n",
    "## Author(s), contact(s), and dates:\n",
    "- Author: Nan Normann Jakobsen\n",
    "- Email:  nnj@chem.ku.dk\n",
    "- Date:   7th of December 2023 (latest update)"
   ]
  },
  {
   "cell_type": "code",
   "execution_count": 2,
   "metadata": {},
   "outputs": [],
   "source": [
    "import numpy as np                                     # Matlab like syntax for linear algebra and functions\n",
    "import matplotlib.pyplot as plt                        # Plots and figures like you know them from Matlab\n",
    "import seaborn as sns                                  # Make the plots nicer to look at\n",
    "from iminuit import Minuit                             # The actual fitting tool, better than scipy's\n",
    "import sys                                             # Module to see files and folders in directories\n",
    "from scipy import stats\n",
    "from IPython.core.display import Latex\n",
    "from sympy import * \n",
    "import os\n",
    "import pandas as pd\n",
    "\n",
    "sys.path.append('../External_Functions')\n",
    "from ExternalFunctions import Chi2Regression\n",
    "from ExternalFunctions import nice_string_output, add_text_to_ax # useful functions to print fit results on figure"
   ]
  },
  {
   "cell_type": "code",
   "execution_count": 3,
   "metadata": {},
   "outputs": [],
   "source": [
    "def lprint(*args,**kwargs):\n",
    "    \"\"\"Pretty print arguments as LaTeX using IPython display system \n",
    "    \n",
    "    Parameters\n",
    "    ----------\n",
    "    args : tuple \n",
    "        What to print (in LaTeX math mode)\n",
    "    kwargs : dict \n",
    "        optional keywords to pass to `display` \n",
    "    \"\"\"\n",
    "    display(Latex('$$'+' '.join(args)+'$$'),**kwargs)"
   ]
  },
  {
   "cell_type": "code",
   "execution_count": 4,
   "metadata": {},
   "outputs": [],
   "source": [
    "meas_path = 'Applied statistics lab exercises - Ball on an incline.csv'\n",
    "meas_df = pd.read_csv(meas_path, sep = ';', decimal = ',')"
   ]
  },
  {
   "cell_type": "code",
   "execution_count": 5,
   "metadata": {},
   "outputs": [],
   "source": [
    "def get_mean_s(df, keys, sigma_col):\n",
    "    df_prop = df[keys]\n",
    "    mean = []\n",
    "    sigma_mean = []\n",
    "    weigthed_mean = []\n",
    "    for key in df_prop:\n",
    "        mu = np.sum(df_prop[key]) / len(df_prop[key])\n",
    "        std = np.sqrt((1 / (len(df_prop[key]) - 1)) * np.sum((df_prop[key] - mu)**2))\n",
    "        mean.append(mu)\n",
    "        sigma_mean.append(std)\n",
    "        mu_w = np.sum(df_prop[key] / df[sigma_col]**2) / np.sum(1 / df[sigma_col]**2)\n",
    "        weigthed_mean.append(mu_w)\n",
    "    sigma_wmean = np.sqrt(1 / np.sum(1 / df[sigma_col]**2))\n",
    "    return mean, sigma_mean, weigthed_mean, sigma_wmean\n",
    "\n",
    "def chi2_mean(chi2):\n",
    "    mu = np.sum(chi2) / len(chi2)\n",
    "    std = np.sqrt((1 / (len(chi2) - 1)) * np.sum((chi2 - mu)**2))\n",
    "    return mu, std\n",
    "\n",
    "def get_mean(x, ex):\n",
    "    mu, std = chi2_mean(x)\n",
    "    mu_w = np.sum(x / ex**2) / np.sum(1 / ex**2)\n",
    "    sigma_wmean = np.sqrt(1 / np.sum(1 / ex**2))\n",
    "    return mu, std, mu_w, sigma_wmean"
   ]
  },
  {
   "cell_type": "code",
   "execution_count": 6,
   "metadata": {},
   "outputs": [
    {
     "name": "stdout",
     "output_type": "stream",
     "text": [
      "Weighted mean [0.2441451612903226, 0.3953935483870968, 0.5530032258064517, 0.7187612903225806, 0.8962903225806451]\n",
      "weigthed error on mean 0.0010776318121606494\n"
     ]
    }
   ],
   "source": [
    "s_mean, sigma_s, s_wmean, sigma_ws = get_mean_s(meas_df / 100, meas_df.keys()[8:13], 'sigma s') # division by 100 to convert from cm to m\n",
    "print('Weighted mean', s_wmean)\n",
    "print('weigthed error on mean', sigma_ws)"
   ]
  },
  {
   "cell_type": "code",
   "execution_count": 7,
   "metadata": {},
   "outputs": [],
   "source": [
    "save_plots = True\n",
    "\n",
    "Nexp = 20\n",
    "Npoints = 5\n",
    "V_thres = 2.5\n",
    "\n",
    "def fit_function(t, a, v_0, s_0):\n",
    "    return 0.5*a * t**2 + v_0 * t + s_0"
   ]
  },
  {
   "cell_type": "markdown",
   "metadata": {},
   "source": [
    "### Data treatment of normal experiments"
   ]
  },
  {
   "cell_type": "code",
   "execution_count": 8,
   "metadata": {},
   "outputs": [
    {
     "name": "stdout",
     "output_type": "stream",
     "text": [
      "0 exp10_ball.txt   Fit: a= 1.525+-0.027  v_0=0.012+-0.020  s_0=0.094+-0.007  Chi2=1.9180  p=0.3833\n"
     ]
    },
    {
     "name": "stdout",
     "output_type": "stream",
     "text": [
      "1 exp11_ball.txt   Fit: a= 1.525+-0.027  v_0=-0.035+-0.021  s_0=0.092+-0.007  Chi2=1.5821  p=0.4534\n",
      "2 exp12_ball.txt   Fit: a= 1.523+-0.027  v_0=-0.293+-0.025  s_0=0.120+-0.011  Chi2=1.7310  p=0.4208\n",
      "3 exp13_ball.txt   Fit: a= 1.525+-0.027  v_0=0.017+-0.020  s_0=0.093+-0.007  Chi2=2.0498  p=0.3588\n",
      "4 exp14_ball.txt   Fit: a= 1.522+-0.027  v_0=-0.327+-0.026  s_0=0.126+-0.012  Chi2=1.8466  p=0.3972\n",
      "5 exp15_ball.txt   Fit: a= 1.523+-0.027  v_0=0.007+-0.020  s_0=0.092+-0.007  Chi2=1.8621  p=0.3941\n",
      "6 exp16_ball.txt   Fit: a= 1.522+-0.027  v_0=-0.136+-0.022  s_0=0.098+-0.009  Chi2=2.0235  p=0.3636\n",
      "7 exp17_ball.txt   Fit: a= 1.517+-0.027  v_0=-0.202+-0.024  s_0=0.103+-0.010  Chi2=2.1215  p=0.3462\n",
      "8 exp18_ball.txt   Fit: a= 1.522+-0.027  v_0=-1.846+-0.053  s_0=1.210+-0.051  Chi2=1.8466  p=0.3972\n",
      "9 exp19_ball.txt   Fit: a= 1.523+-0.027  v_0=0.272+-0.015  s_0=0.116+-0.004  Chi2=1.8621  p=0.3941\n",
      "10 exp1_ball.txt   Fit: a= 1.519+-0.027  v_0=-0.057+-0.021  s_0=0.093+-0.008  Chi2=1.7383  p=0.4193\n",
      "11 exp20_ball.txt   Fit: a= 1.525+-0.027  v_0=0.192+-0.017  s_0=0.104+-0.005  Chi2=1.8795  p=0.3907\n",
      "12 exp2_ball.txt   Fit: a= 1.520+-0.027  v_0=0.068+-0.019  s_0=0.093+-0.006  Chi2=2.0134  p=0.3654\n",
      "13 exp3_ball.txt   Fit: a= 1.523+-0.027  v_0=-1.637+-0.049  s_0=0.971+-0.044  Chi2=1.5675  p=0.4567\n",
      "14 exp4_ball.txt   Fit: a= 1.524+-0.027  v_0=-1.446+-0.046  s_0=0.779+-0.038  Chi2=2.0356  p=0.3614\n",
      "15 exp5_ball.txt   Fit: a= 1.524+-0.027  v_0=-0.783+-0.034  s_0=0.292+-0.021  Chi2=2.1390  p=0.3432\n",
      "16 exp6_ball.txt   Fit: a= 1.523+-0.027  v_0=-0.767+-0.034  s_0=0.285+-0.020  Chi2=1.7310  p=0.4208\n",
      "17 exp7_ball.txt   Fit: a= 1.520+-0.027  v_0=0.272+-0.015  s_0=0.116+-0.004  Chi2=2.0360  p=0.3613\n",
      "18 exp8_ball.txt   Fit: a= 1.519+-0.027  v_0=-0.010+-0.020  s_0=0.091+-0.007  Chi2=1.5792  p=0.4540\n",
      "19 exp9_ball.txt   Fit: a= 1.524+-0.027  v_0=0.169+-0.017  s_0=0.103+-0.005  Chi2=1.4956  p=0.4734\n"
     ]
    },
    {
     "data": {
      "image/png": "[encoded data removed]",
      "text/plain": [
       "<Figure size 500x300 with 1 Axes>"
      ]
     },
     "metadata": {},
     "output_type": "display_data"
    }
   ],
   "source": [
    "Minuit.print_level = 0\n",
    "\n",
    "fig_norm, ax_norm = plt.subplots(figsize=(5,3))\n",
    "\n",
    "# Arrays for storing fit results:\n",
    "array_a = np.zeros(Nexp)\n",
    "array_sigmaa = np.zeros(Nexp)\n",
    "array_v0 = np.zeros(Nexp)\n",
    "array_sigmav0 = np.zeros(Nexp)\n",
    "array_s0 = np.zeros(Nexp)\n",
    "array_sigmas0 = np.zeros(Nexp)\n",
    "array_Chi2 = np.zeros(Nexp)\n",
    "array_Prob = np.zeros(Nexp)\n",
    "\n",
    "directory = '../Project'\n",
    "\n",
    "# Loop, repeating the data generation and fit:\n",
    "for iexp, filename in enumerate(os.listdir(directory)):  # https://www.geeksforgeeks.org/how-to-iterate-over-files-in-directory-using-python/\n",
    "    if 'ball.txt' in filename:\n",
    "        if 'rev' in filename:\n",
    "            pass\n",
    "        else:\n",
    "            f = pd.read_table(filename, sep = '\\t', skiprows = 14)\n",
    "\n",
    "            t = []\n",
    "            for i in range(len(f['Channel 1 (V)'])):\n",
    "                if f['Channel 1 (V)'][i]>V_thres>f['Channel 1 (V)'][i+1]:\n",
    "                    t.append(f['Time (s)'][i])\n",
    "\n",
    "            s = s_wmean\n",
    "            es = sigma_ws\n",
    "            t = np.array(t)\n",
    "\n",
    "            # Define a ChiSquare to be minimised (using ExternalFunctions):\n",
    "\n",
    "            # Alternatively, you can define Chi2 calculation:\n",
    "            def chi2_owncalc(a, v_0, s_0) : # , alpha1\n",
    "                s_fit = fit_function(t, a, v_0, s_0) # , alpha1\n",
    "                chi2 = np.sum(((s - s_fit) / es)**2)\n",
    "                return chi2\n",
    "            chi2_owncalc.errordef = 1.0\n",
    "\n",
    "            # Here we let Minuit know, what to minimise, how, and with what starting parameters:   \n",
    "            minuit = Minuit(chi2_owncalc, a = 1.0, v_0 = 0.0, s_0 = 0.0) # initial guess\n",
    "\n",
    "            # Perform the actual fit:\n",
    "            minuit.migrad()\n",
    "\n",
    "            # Extract the fitting parameters and their errors:\n",
    "            a_fit = minuit.values['a']\n",
    "            v0_fit = minuit.values['v_0']\n",
    "            s0_fit = minuit.values['s_0']\n",
    "            sigma_a_fit = minuit.errors['a']\n",
    "            sigma_v0_fit = minuit.errors['v_0']\n",
    "            sigma_s0_fit = minuit.errors['s_0']\n",
    "\n",
    "            Nvar = 3                     # Number of variables\n",
    "            Ndof_fit = Npoints - Nvar    # Number of degrees of freedom = Number of data points - Number of variables\n",
    "\n",
    "            # Get the minimal value obtained for the quantity to be minimised (here the Chi2)\n",
    "            Chi2_fit = minuit.fval                          # The chi2 value\n",
    "            Prob_fit = stats.chi2.sf(Chi2_fit, Ndof_fit)    # The chi2 probability given N degrees of freedom\n",
    "\n",
    "            # Fill the arrays with fit results (to produce plots of these at the end):\n",
    "            i = int(iexp/2 - 1)\n",
    "            array_a[i] = a_fit\n",
    "            array_v0[i] = v0_fit\n",
    "            array_s0[i] = s0_fit\n",
    "            array_Chi2[i] = Chi2_fit\n",
    "            array_Prob[i] = Prob_fit\n",
    "\n",
    "            array_sigmaa[i] = sigma_a_fit\n",
    "            array_sigmav0[i] = sigma_v0_fit\n",
    "            array_sigmas0[i] = sigma_s0_fit\n",
    "            \n",
    "            # Let us see what the fit gives for the first couple of data sets:\n",
    "            # print(filename, i)\n",
    "            print(i, filename, \n",
    "                  f\"  Fit: a={a_fit:6.3f}+-{sigma_a_fit:5.3f}  v_0={v0_fit:5.3f}+-{sigma_v0_fit:5.3f}  s_0={s0_fit:5.3f}+-{sigma_s0_fit:5.3f}  Chi2={Chi2_fit:6.4f}  p={Prob_fit:6.4f}\")\n",
    "            if i == 1:\n",
    "                ax_norm.plot(f['Time (s)'], f['Channel 1 (V)'])\n",
    "\n",
    "                ax_norm.set_xlabel('Time / s')\n",
    "                ax_norm.set_ylabel('Voltage / V')\n",
    "                ax_norm.set_xlim(0, 1.5)\n",
    "                ax_norm.set_ylim(1, 3)\n",
    "\n",
    "                fig_norm.tight_layout()\n",
    "                if (save_plots) :\n",
    "                    fig_norm.savefig(\"exp_example.png\", dpi = 150)\n",
    "                fig_norm\n",
    "\n"
   ]
  },
  {
   "cell_type": "code",
   "execution_count": 9,
   "metadata": {},
   "outputs": [
    {
     "name": "stdout",
     "output_type": "stream",
     "text": [
      "[-6.72401438e-05  4.39377600e-04 -9.19524917e-04  7.95168762e-04\n",
      " -2.47780791e-04]\n"
     ]
    }
   ],
   "source": [
    "res = fit_function(t, *minuit.values[:]) - s\n",
    "print(res)"
   ]
  },
  {
   "cell_type": "code",
   "execution_count": 10,
   "metadata": {},
   "outputs": [],
   "source": [
    "t_values = np.linspace(0, 1.2, 1000)\n",
    "\n",
    "fig, ax = plt.subplots(figsize=(5,3))\n",
    "ax.scatter(t, s, color = 'r')\n",
    "ax.plot(t_values, fit_function(t_values, *minuit.values[:]), '-k', zorder = -10)     # Note how we can \"smartly\" input the fit values!\n",
    "\n",
    "ax_res = ax.twinx()\n",
    "ax_res.hlines(0, min(t_values), max(t_values), color = 'k', lw = 1, ls = '--')\n",
    "ax_res.errorbar(t, res, es, fmt = \"o\", color='b', ecolor='k', elinewidth=2, capsize=2, capthick=1)\n",
    "plt.close()"
   ]
  },
  {
   "cell_type": "code",
   "execution_count": 11,
   "metadata": {},
   "outputs": [
    {
     "data": {
      "image/png": "[encoded data removed]",
      "text/plain": [
       "<Figure size 500x300 with 2 Axes>"
      ]
     },
     "execution_count": 11,
     "metadata": {},
     "output_type": "execute_result"
    }
   ],
   "source": [
    "d = {'a':   [a_fit, sigma_a_fit],\n",
    "     'v_0':   [v0_fit, sigma_v0_fit],\n",
    "     's_0':     [s0_fit, sigma_s0_fit],\n",
    "     'Chi2':     Chi2_fit,\n",
    "     'ndf':      Ndof_fit,\n",
    "     'Prob':     Prob_fit,\n",
    "    }\n",
    "\n",
    "text = nice_string_output(d, extra_spacing=2, decimals=3)\n",
    "add_text_to_ax(0.02, 0.95, text, ax, fontsize=8)\n",
    "\n",
    "ax.set_yticks([0, 0.25, 0.5, 0.75, 1, 1.25])\n",
    "ax_res.set_yticks([-0.0025, 0, 0.0025])\n",
    "\n",
    "ax.set_ylabel('Distance / m', color = 'r')\n",
    "ax_res.set_ylabel('Residuals / m', color = 'b')\n",
    "ax.set_xlabel('Time / s')\n",
    "\n",
    "ax.set_xlim(min(t_values), max(t_values))\n",
    "sep_pro = 0.3\n",
    "\n",
    "ax.set_ylim(-0.4, 1.5)\n",
    "ax_res.set_ylim(-0.0025, 0.0155)\n",
    "# print(ax.get_ylim[0])\n",
    "# ax.set_ylim(ax.get_ylim()[0]-sep_pro*(np.diff(ax.get_ylim())), ax.get_ylim()[1])\n",
    "# ax_res.set_ylim(ax_res.get_ylim()[0], ax_res.get_ylim()[1]+(1/sep_pro)*(np.diff(ax_res.get_ylim())))\n",
    "\n",
    "fig.tight_layout()\n",
    "if (save_plots) :\n",
    "    fig.savefig(\"FitToParabola.png\", dpi = 150)\n",
    "fig"
   ]
  },
  {
   "cell_type": "code",
   "execution_count": 12,
   "metadata": {},
   "outputs": [
    {
     "name": "stdout",
     "output_type": "stream",
     "text": [
      "mean of a: 1.522480453605753 +- 0.027116811990872736\n",
      "0.0024258445589512593\n",
      "mean and standard deviation of Chi2: 1.8529146905453362 +- 0.19466732094173386\n"
     ]
    }
   ],
   "source": [
    "# a_mean, sigma_a, a_wmean, sigma_wa = get_mean(array_a, array_sigmaa)\n",
    "a_wmean = array_a.mean()\n",
    "sigma_wa = array_sigmaa.mean()\n",
    "a_std = array_a.std(ddof=1)\n",
    "# print('mean of a:', a_mean, '+-', sigma_a)\n",
    "print('mean of a:', a_wmean, '+-', sigma_wa)\n",
    "print(a_std)\n",
    "\n",
    "v0_mean, sigma_v0, v0_wmean, sigma_wv0 = get_mean(array_v0, array_sigmav0)\n",
    "# print('mean of v0:', v0_mean, '+-', sigma_v0)\n",
    "# print('weighted mean of v0:', v0_wmean, '+-', sigma_wv0)\n",
    "\n",
    "s0_mean, sigma_s0, s0_wmean, sigma_ws0 = get_mean(array_s0, array_sigmas0)\n",
    "# print('mean of s0:', s0_mean, '+-', sigma_s0)\n",
    "# print('weighted mean of s0:', s0_wmean, '+-', sigma_ws0)\n",
    "\n",
    "Chi2_mean = array_Chi2.mean()\n",
    "Chi2_std = array_Chi2.std(ddof=1)\n",
    "\n",
    "print('mean and standard deviation of Chi2:', Chi2_mean, '+-', Chi2_std)"
   ]
  },
  {
   "cell_type": "markdown",
   "metadata": {},
   "source": [
    "### Data treatment of reversed experiments"
   ]
  },
  {
   "cell_type": "code",
   "execution_count": 32,
   "metadata": {},
   "outputs": [
    {
     "name": "stdout",
     "output_type": "stream",
     "text": [
      "0 exp10_rev_ball.txt   Fit: a= 1.442+-0.026  v_0=0.228+-0.016  s_0=0.109+-0.004 Chi2=1.9247  p=0.3820\n",
      "1 exp11_rev_ball.txt   Fit: a= 1.439+-0.026  v_0=0.224+-0.016  s_0=0.108+-0.004 Chi2=2.2132  p=0.3307\n",
      "2 exp12_rev_ball.txt   Fit: a= 1.438+-0.026  v_0=-0.169+-0.023  s_0=0.100+-0.010 Chi2=1.7689  p=0.4129\n",
      "3 exp13_rev_ball.txt   Fit: a= 1.439+-0.026  v_0=0.052+-0.019  s_0=0.092+-0.006 Chi2=2.2132  p=0.3307\n",
      "4 exp14_rev_ball.txt   Fit: a= 1.443+-0.026  v_0=0.233+-0.015  s_0=0.111+-0.004 Chi2=2.2367  p=0.3268\n",
      "5 exp15_rev_ball.txt   Fit: a= 1.444+-0.026  v_0=0.333+-0.014  s_0=0.130+-0.003 Chi2=1.9366  p=0.3797\n",
      "6 exp16_rev_ball.txt   Fit: a= 1.438+-0.026  v_0=0.208+-0.016  s_0=0.105+-0.005 Chi2=1.7689  p=0.4129\n",
      "7 exp17_rev_ball.txt   Fit: a= 1.438+-0.026  v_0=0.262+-0.015  s_0=0.116+-0.004 Chi2=1.7108  p=0.4251\n",
      "8 exp18_rev_ball.txt   Fit: a= 1.444+-0.026  v_0=0.264+-0.015  s_0=0.117+-0.004 Chi2=2.2513  p=0.3244\n",
      "9 exp19_rev_ball.txt   Fit: a= 1.439+-0.026  v_0=-0.802+-0.034  s_0=0.315+-0.022 Chi2=1.9322  p=0.3806\n",
      "10 exp1_rev_ball.txt   Fit: a= 1.437+-0.026  v_0=0.159+-0.017  s_0=0.101+-0.005 Chi2=1.9587  p=0.3756\n",
      "11 exp20_rev_ball.txt   Fit: a= 1.438+-0.026  v_0=0.317+-0.014  s_0=0.125+-0.003 Chi2=1.7689  p=0.4129\n",
      "12 exp2_rev_ball.txt   Fit: a= 1.440+-0.026  v_0=-0.189+-0.023  s_0=0.106+-0.010 Chi2=1.8517  p=0.3962\n",
      "13 exp3_rev_ball.txt   Fit: a= 1.440+-0.026  v_0=-1.143+-0.040  s_0=0.545+-0.031 Chi2=1.6541  p=0.4373\n",
      "14 exp4_rev_ball.txt   Fit: a= 1.438+-0.026  v_0=-0.023+-0.020  s_0=0.091+-0.007 Chi2=1.5364  p=0.4638\n",
      "15 exp5_rev_ball.txt   Fit: a= 1.442+-0.026  v_0=0.183+-0.016  s_0=0.103+-0.005 Chi2=1.9247  p=0.3820\n",
      "16 exp6_rev_ball.txt   Fit: a= 1.439+-0.026  v_0=0.198+-0.016  s_0=0.104+-0.005 Chi2=2.2132  p=0.3307\n",
      "17 exp7_rev_ball.txt   Fit: a= 1.440+-0.026  v_0=-0.346+-0.026  s_0=0.133+-0.012 Chi2=1.7862  p=0.4094\n",
      "18 exp8_rev_ball.txt   Fit: a= 1.442+-0.026  v_0=0.040+-0.019  s_0=0.092+-0.007 Chi2=1.9247  p=0.3820\n",
      "19 exp9_rev_ball.txt   Fit: a= 1.444+-0.026  v_0=0.064+-0.018  s_0=0.093+-0.006 Chi2=1.9366  p=0.3797\n"
     ]
    },
    {
     "data": {
      "image/png": "[encoded data removed]",
      "text/plain": [
       "<Figure size 500x300 with 1 Axes>"
      ]
     },
     "metadata": {},
     "output_type": "display_data"
    }
   ],
   "source": [
    "Minuit.print_level = 0\n",
    "\n",
    "fig_rev, ax_rev = plt.subplots(figsize=(5,3))\n",
    "\n",
    "# Arrays for storing fit results:\n",
    "array_a_rev = np.zeros(Nexp)\n",
    "array_sigmaa_rev = np.zeros(Nexp)\n",
    "array_v0_rev = np.zeros(Nexp)\n",
    "array_sigmav0_rev = np.zeros(Nexp)\n",
    "array_s0_rev = np.zeros(Nexp)\n",
    "array_sigmas0_rev = np.zeros(Nexp)\n",
    "array_Chi2_rev = np.zeros(Nexp)\n",
    "array_Prob_rev = np.zeros(Nexp)\n",
    "\n",
    "directory = '../Project'\n",
    "\n",
    "# Loop, repeating the data generation and fit:\n",
    "for iexp, filename in enumerate(os.listdir(directory)):  # https://www.geeksforgeeks.org/how-to-iterate-over-files-in-directory-using-python/\n",
    "    if 'ball.txt' in filename:\n",
    "        if 'rev' not in filename:\n",
    "            pass\n",
    "        else:\n",
    "            f = pd.read_table(filename, sep = '\\t', skiprows = 14)\n",
    "\n",
    "            t = []\n",
    "            for i in range(len(f['Channel 1 (V)'])):\n",
    "                if f['Channel 1 (V)'][i]>V_thres>f['Channel 1 (V)'][i+1]:\n",
    "                    t.append(f['Time (s)'][i])\n",
    "\n",
    "            s = s_wmean\n",
    "            es = sigma_ws\n",
    "            t = np.array(t)\n",
    "\n",
    "            # Define a ChiSquare to be minimised (using ExternalFunctions):\n",
    "\n",
    "            # Alternatively, you can define Chi2 calculation:\n",
    "            def chi2_owncalc(a, v_0, s_0) : # , alpha1\n",
    "                s_fit = fit_function(t, a, v_0, s_0) # , alpha1\n",
    "                chi2 = np.sum(((s - s_fit) / es)**2)\n",
    "                return chi2\n",
    "            chi2_owncalc.errordef = 1.0\n",
    "\n",
    "            # Here we let Minuit know, what to minimise, how, and with what starting parameters:   \n",
    "            minuit = Minuit(chi2_owncalc, a = 1.0, v_0 = 0.0, s_0 = 0.0) # initial guess\n",
    "\n",
    "            # Perform the actual fit:\n",
    "            minuit.migrad()\n",
    "\n",
    "            # Extract the fitting parameters and their errors:\n",
    "            a_fit = minuit.values['a']\n",
    "            v0_fit = minuit.values['v_0']\n",
    "            s0_fit = minuit.values['s_0']\n",
    "            sigma_a_fit = minuit.errors['a']\n",
    "            sigma_v0_fit = minuit.errors['v_0']\n",
    "            sigma_s0_fit = minuit.errors['s_0']\n",
    "\n",
    "            Nvar = 3                     # Number of variables\n",
    "            Ndof_fit = Npoints - Nvar    # Number of degrees of freedom = Number of data points - Number of variables\n",
    "\n",
    "            # Get the minimal value obtained for the quantity to be minimised (here the Chi2)\n",
    "            Chi2_fit = minuit.fval                          # The chi2 value\n",
    "            Prob_fit = stats.chi2.sf(Chi2_fit, Ndof_fit)    # The chi2 probability given N degrees of freedom\n",
    "\n",
    "            # Fill the arrays with fit results (to produce plots of these at the end):\n",
    "            i = int(iexp/2 - 2)\n",
    "            array_a_rev[i] = a_fit\n",
    "            array_v0_rev[i] = v0_fit\n",
    "            array_s0_rev[i] = s0_fit\n",
    "            array_Chi2_rev[i] = Chi2_fit\n",
    "            array_Prob_rev[i] = Prob_fit\n",
    "\n",
    "            array_sigmaa_rev[i] = sigma_a_fit\n",
    "            array_sigmav0_rev[i] = sigma_v0_fit\n",
    "            array_sigmas0_rev[i] = sigma_s0_fit\n",
    "            \n",
    "            # Let us see what the fit gives for the first couple of data sets:\n",
    "            print(i, filename,\n",
    "                  f\"  Fit: a={a_fit:6.3f}+-{sigma_a_fit:5.3f}  v_0={v0_fit:5.3f}+-{sigma_v0_fit:5.3f}  s_0={s0_fit:5.3f}+-{sigma_s0_fit:5.3f} Chi2={Chi2_fit:6.4f}  p={Prob_fit:6.4f}\")\n",
    "\n",
    "            if (3 < i < 6):\n",
    "                ax_rev.plot(f['Time (s)'], f['Channel 1 (V)'])"
   ]
  },
  {
   "cell_type": "code",
   "execution_count": 14,
   "metadata": {},
   "outputs": [],
   "source": [
    "t_values = np.linspace(0, 1.2, 1000)\n",
    "\n",
    "fig2, ax2 = plt.subplots(figsize=(5,3))\n",
    "ax2.errorbar(t, s, es, fmt='ro', ecolor='k', elinewidth=2, capsize=2, capthick=1)\n",
    "ax2.plot(t_values, fit_function(t_values, *minuit.values[:]), '-k')     # Note how we can \"smartly\" input the fit values!\n",
    "\n",
    "ax2_res = ax2.twinx()\n",
    "ax2_res.hlines(0, min(t_values), max(t_values), color = 'k', lw = 1, ls = '--')\n",
    "ax2_res.errorbar(t, res, es, fmt = \"o\", color='b', ecolor='k', elinewidth=2, capsize=2, capthick=1)\n",
    "plt.close()"
   ]
  },
  {
   "cell_type": "code",
   "execution_count": 15,
   "metadata": {},
   "outputs": [
    {
     "data": {
      "image/png": "[encoded data removed]",
      "text/plain": [
       "<Figure size 500x300 with 2 Axes>"
      ]
     },
     "execution_count": 15,
     "metadata": {},
     "output_type": "execute_result"
    }
   ],
   "source": [
    "d = {'a':   [a_fit, sigma_a_fit],\n",
    "     'v_0':   [v0_fit, sigma_v0_fit],\n",
    "     's_0':     [s0_fit, sigma_s0_fit],\n",
    "     'Chi2':     Chi2_fit,\n",
    "     'ndf':      Ndof_fit,\n",
    "     'Prob':     Prob_fit,\n",
    "    }\n",
    "\n",
    "text = nice_string_output(d, extra_spacing=2, decimals=3)\n",
    "add_text_to_ax(0.02, 0.95, text, ax2, fontsize=8)\n",
    "\n",
    "ax2.set_yticks([0, 0.25, 0.5, 0.75, 1, 1.25])\n",
    "ax2_res.set_yticks([-0.0025, 0, 0.0025])\n",
    "\n",
    "ax2.set_ylabel('Distance / m', color = 'r')\n",
    "ax2_res.set_ylabel('Residuals / m', color = 'b')\n",
    "ax2.set_xlabel('Time / s')\n",
    "\n",
    "ax2.set_xlim(min(t_values), max(t_values))\n",
    "sep_pro = 0.3\n",
    "\n",
    "ax2.set_ylim(-0.4, 1.5)\n",
    "ax2_res.set_ylim(-0.0025, 0.0155)\n",
    "\n",
    "fig2.tight_layout()\n",
    "if (save_plots) :\n",
    "    fig2.savefig(\"FitToParabola_rev.png\", dpi = 150)\n",
    "fig2"
   ]
  },
  {
   "cell_type": "code",
   "execution_count": 16,
   "metadata": {},
   "outputs": [
    {
     "name": "stdout",
     "output_type": "stream",
     "text": [
      "mean of a_rev: 1.4403266508843988 +- 0.025689696271652553\n",
      "0.0023037694806703098\n",
      "mean and standard deviation of Chi2: 1.925580377990227 +- 0.20805118927150282\n"
     ]
    }
   ],
   "source": [
    "# a_mean_rev, sigma_a_rev, a_wmean_rev, sigma_wa_rev = get_mean(array_a_rev, array_sigmaa_rev)\n",
    "a_wmean_rev = array_a_rev.mean()\n",
    "sigma_wa_rev = array_sigmaa_rev.mean()\n",
    "a_std_r = array_a_rev.std(ddof=1)\n",
    "# print('mean of a_rev:', a_mean_rev, '+-', sigma_a_rev)\n",
    "print('mean of a_rev:', a_wmean_rev, '+-', sigma_wa_rev)\n",
    "print(a_std_r)\n",
    "# print(array_a_rev.mean(), array_sigmaa_rev.mean())\n",
    "\n",
    "v0_mean_rev, sigma_v0_rev, v0_wmean_rev, sigma_wv0_rev = get_mean(array_v0_rev, array_sigmav0_rev)\n",
    "# print('mean of v0:', v0_mean_rev, '+-', sigma_v0_rev)\n",
    "# print('weighted mean of v0:', v0_wmean_rev, '+-', sigma_wv0_rev)\n",
    "\n",
    "s0_mean_rev, sigma_s0_rev, s0_wmean_rev, sigma_ws0_rev = get_mean(array_s0_rev, array_sigmas0_rev)\n",
    "# print('mean of s0:', s0_mean_rev, '+-', sigma_s0_rev)\n",
    "# print('weighted mean of s0:', s0_wmean_rev, '+-', sigma_ws0_rev)\n",
    "\n",
    "Chi2_mean_rev = array_Chi2_rev.mean()\n",
    "Chi2_std_rev = array_Chi2_rev.std(ddof=1)\n",
    "\n",
    "print('mean and standard deviation of Chi2:', Chi2_mean_rev, '+-', Chi2_std_rev)"
   ]
  },
  {
   "cell_type": "markdown",
   "metadata": {},
   "source": [
    "### Calculation of theta and Delta theta"
   ]
  },
  {
   "cell_type": "code",
   "execution_count": 17,
   "metadata": {},
   "outputs": [
    {
     "name": "stdout",
     "output_type": "stream",
     "text": [
      "weighted mean of length: 0.9029430379746836 +- 0.001125087900926024\n",
      "weighted mean of height: 0.22284 +- 0.00031622776601683794\n"
     ]
    }
   ],
   "source": [
    "L_mean, sigma_L, L_wmean, sigma_wL = get_mean(meas_df['lenght'] / 100, meas_df['sigma length'] / 100)\n",
    "print('weighted mean of length:', L_wmean, '+-', sigma_wL)\n",
    "H_mean, sigma_H, H_wmean, sigma_wH = get_mean(meas_df['height'] / 100, meas_df['sigma height'] / 100)\n",
    "print('weighted mean of height:', H_wmean, '+-', sigma_wH)"
   ]
  },
  {
   "cell_type": "code",
   "execution_count": 18,
   "metadata": {},
   "outputs": [
    {
     "data": {
      "text/latex": [
       "$$\\theta_{t} = \\operatorname{atan}{\\left(\\frac{H}{L} \\right)}$$"
      ],
      "text/plain": [
       "<IPython.core.display.Latex object>"
      ]
     },
     "metadata": {},
     "output_type": "display_data"
    },
    {
     "data": {
      "text/latex": [
       "$$\\sigma_{\\theta t} = \\sqrt{\\frac{H^{2} \\sigma_{L}^{2}}{L^{4} \\left(\\frac{H^{2}}{L^{2}} + 1\\right)^{2}} + \\frac{\\sigma_{H}^{2}}{L^{2} \\left(\\frac{H^{2}}{L^{2}} + 1\\right)^{2}}}$$"
      ],
      "text/plain": [
       "<IPython.core.display.Latex object>"
      ]
     },
     "metadata": {},
     "output_type": "display_data"
    },
    {
     "data": {
      "text/latex": [
       "$$theta_t = 0.24196 \\pm 0.00044$$"
      ],
      "text/plain": [
       "<IPython.core.display.Latex object>"
      ]
     },
     "metadata": {},
     "output_type": "display_data"
    }
   ],
   "source": [
    "# Define variables:\n",
    "L,H,theta_trig = symbols(\"L, H, theta_t\")\n",
    "dL,dH,dtheta_trig = symbols(\"sigma_L, sigma_H, sigma_theta_t\")\n",
    "\n",
    "# Define relation, and print:\n",
    "theta_trig = atan(H/L)\n",
    "lprint(latex(Eq(symbols('theta_t'),theta_trig)))\n",
    "\n",
    "# Calculate uncertainty and print:\n",
    "dtheta_trig = sqrt((theta_trig.diff(L) * dL)**2 + (theta_trig.diff(H) * dH)**2)\n",
    "lprint(latex(Eq(symbols('sigma_theta_t'), dtheta_trig)))\n",
    "\n",
    "# Turn expression into numerical functions \n",
    "# lambdify transform SymPy expressions to lambda functions which can be used to calculate numerical values very fast\n",
    "ftheta_trig = lambdify((L,H),theta_trig)\n",
    "fdtheta_trig = lambdify((L,dL,H,dH),dtheta_trig)\n",
    "\n",
    "# Define values and their errors\n",
    "vL, vdL = L_wmean, sigma_wL\n",
    "vH, vdH = H_wmean, sigma_wH\n",
    "\n",
    "# Numerically evaluate expressions and print \n",
    "vtheta_trig = ftheta_trig(vL,vH)\n",
    "vdtheta_trig = fdtheta_trig(vL,vdL,vH,vdH)\n",
    "lprint(fr'theta_t = {vtheta_trig:.5f} \\pm {vdtheta_trig:.5f}')"
   ]
  },
  {
   "cell_type": "code",
   "execution_count": 19,
   "metadata": {},
   "outputs": [
    {
     "data": {
      "text/latex": [
       "$$\\Delta_{\\theta} = \\frac{\\left(a_{n} - a_{r}\\right) \\sin{\\left(\\theta \\right)}}{\\left(a_{n} + a_{r}\\right) \\cos{\\left(\\theta \\right)}}$$"
      ],
      "text/plain": [
       "<IPython.core.display.Latex object>"
      ]
     },
     "metadata": {},
     "output_type": "display_data"
    },
    {
     "data": {
      "text/latex": [
       "$$\\sigma_{\\Delta \\theta} = \\sqrt{\\sigma_{a n}^{2} \\left(- \\frac{\\left(a_{n} - a_{r}\\right) \\sin{\\left(\\theta \\right)}}{\\left(a_{n} + a_{r}\\right)^{2} \\cos{\\left(\\theta \\right)}} + \\frac{\\sin{\\left(\\theta \\right)}}{\\left(a_{n} + a_{r}\\right) \\cos{\\left(\\theta \\right)}}\\right)^{2} + \\sigma_{a r}^{2} \\left(- \\frac{\\left(a_{n} - a_{r}\\right) \\sin{\\left(\\theta \\right)}}{\\left(a_{n} + a_{r}\\right)^{2} \\cos{\\left(\\theta \\right)}} - \\frac{\\sin{\\left(\\theta \\right)}}{\\left(a_{n} + a_{r}\\right) \\cos{\\left(\\theta \\right)}}\\right)^{2} + \\sigma_{\\theta}^{2} \\left(\\frac{\\left(a_{n} - a_{r}\\right) \\sin^{2}{\\left(\\theta \\right)}}{\\left(a_{n} + a_{r}\\right) \\cos^{2}{\\left(\\theta \\right)}} + \\frac{a_{n} - a_{r}}{a_{n} + a_{r}}\\right)^{2}}$$"
      ],
      "text/plain": [
       "<IPython.core.display.Latex object>"
      ]
     },
     "metadata": {},
     "output_type": "display_data"
    },
    {
     "data": {
      "text/latex": [
       "$$Delta theta = 0.00684 \\pm 0.00311$$"
      ],
      "text/plain": [
       "<IPython.core.display.Latex object>"
      ]
     },
     "metadata": {},
     "output_type": "display_data"
    }
   ],
   "source": [
    "# Define variables:\n",
    "Dth,a_n,a_r,th = symbols(\"Deltatheta, a_n, a_r, theta\")\n",
    "dDth,da_n,da_r,dth = symbols(\"sigma_Delta_theta, sigma_a_n, sigma_a_r, sigma_theta\")\n",
    "\n",
    "# Define relation, and print:\n",
    "Dth = ((a_n - a_r) * sin(th)) / ((a_n + a_r) * cos(th))\n",
    "lprint(latex(Eq(symbols('Delta_theta'),Dth)))\n",
    "\n",
    "# Calculate uncertainty and print:\n",
    "dDth = sqrt((Dth.diff(a_n) * da_n)**2 + (Dth.diff(a_r) * da_r)**2 + (Dth.diff(th) * dth)**2)\n",
    "lprint(latex(Eq(symbols('sigma_Delta_theta'), dDth)))\n",
    "\n",
    "# Turn expression into numerical functions \n",
    "# lambdify transform SymPy expressions to lambda functions which can be used to calculate numerical values very fast\n",
    "fDth = lambdify((a_n,a_r,th),Dth)\n",
    "fdDth = lambdify((a_n,da_n,a_r,da_r,th,dth),dDth)\n",
    "\n",
    "# Define values and their errors\n",
    "va_n, vda_n = a_wmean, sigma_wa\n",
    "va_r, vda_r = a_wmean_rev, sigma_wa_rev\n",
    "vth, vdth = vtheta_trig, vdtheta_trig\n",
    "\n",
    "# Numerically evaluate expressions and print \n",
    "vDth = fDth(va_n,va_r,vth)\n",
    "vdDth = fdDth(va_n,vda_n,va_r,vda_r,vth,vdth)\n",
    "lprint(fr'Delta theta = {vDth:.5f} \\pm {vdDth:.5f}')"
   ]
  },
  {
   "cell_type": "code",
   "execution_count": 20,
   "metadata": {},
   "outputs": [],
   "source": [
    "theta_norm_df = pd.concat([pd.concat([meas_df['theta_norm'] * np.pi/180, meas_df['theta_norm_rev'] * np.pi/180], ignore_index = True), \n",
    "                  pd.concat([meas_df['sigma theta_norm'] * np.pi/180, meas_df['sigma theta_norm_rev'] * np.pi/180], ignore_index = True)]\n",
    "                  , axis = 1)\n",
    "theta_rev_df = pd.concat([pd.concat([meas_df['theta_rev'] * np.pi/180, meas_df['theta_rev_rev'] * np.pi/180], ignore_index = True), \n",
    "                          pd.concat([meas_df['sigma theta_rev'] * np.pi/180, meas_df['sigma theta_rev_rev'] * np.pi/180], ignore_index = True)]\n",
    "                          , axis = 1)\n",
    "ball_full_df = pd.concat([pd.concat([meas_df['D_ball1'], meas_df['D_ball2']], ignore_index = True), \n",
    "                  pd.concat([meas_df['sigma D_ball1'], meas_df['sigma D_ball2']], ignore_index = True)]\n",
    "                  , axis = 1)"
   ]
  },
  {
   "cell_type": "code",
   "execution_count": 21,
   "metadata": {},
   "outputs": [
    {
     "name": "stdout",
     "output_type": "stream",
     "text": [
      "weighted mean of theta_norm: 0.24756890622472044 +- 0.0007368056258695003\n",
      "weighted mean of theta_rev: 0.23125612588924865 +- 0.0006845744548894912\n",
      "weighted mean of ball diameter: 0.015029647870937718 +- 1.868225370728435e-05\n",
      "weighted mean of rail diameter: 0.007305357142857143 +- 1.889822365046136e-05\n",
      "weighted mean of acceleration: 1.479184935283974 +- 0.018649474800836598\n"
     ]
    }
   ],
   "source": [
    "theta_norm, sigma_theta_norm, wtheta_norm, sigma_wtheta_norm = get_mean(theta_norm_df[0], theta_norm_df[1])\n",
    "print('weighted mean of theta_norm:', wtheta_norm, '+-', sigma_wtheta_norm)\n",
    "theta_rev, sigma_theta_rev, wtheta_rev, sigma_wtheta_rev = get_mean(theta_rev_df[0], theta_rev_df[1])\n",
    "print('weighted mean of theta_rev:', wtheta_rev, '+-', sigma_wtheta_rev)\n",
    "d_ball, sigma_dball, wd_ball, sigma_wdball = get_mean(ball_full_df[0] / 100, ball_full_df[1] / 100) # division with 100 to convert cm to m\n",
    "print('weighted mean of ball diameter:', wd_ball, '+-', sigma_wdball)\n",
    "d_rail, sigma_drail, wd_rail, sigma_wdrail = get_mean(meas_df['d_railing'] / 100, meas_df['sigma d_railing'] / 100)\n",
    "print('weighted mean of rail diameter:', wd_rail, '+-', sigma_wdrail)\n",
    "a, ea, aw, eaw = get_mean(np.array([a_wmean, a_wmean_rev]), np.array([sigma_wa, sigma_wa_rev]))\n",
    "print('weighted mean of acceleration:', aw, '+-', eaw)"
   ]
  },
  {
   "cell_type": "code",
   "execution_count": 22,
   "metadata": {},
   "outputs": [
    {
     "data": {
      "text/latex": [
       "$$\\theta = \\Delta_{\\theta} + \\theta_{t}$$"
      ],
      "text/plain": [
       "<IPython.core.display.Latex object>"
      ]
     },
     "metadata": {},
     "output_type": "display_data"
    },
    {
     "data": {
      "text/latex": [
       "$$\\sigma_{\\theta} = \\sqrt{\\sigma_{\\Delta \\theta}^{2} + \\sigma_{\\theta t}^{2}}$$"
      ],
      "text/plain": [
       "<IPython.core.display.Latex object>"
      ]
     },
     "metadata": {},
     "output_type": "display_data"
    },
    {
     "data": {
      "text/latex": [
       "$$theta_t = 0.24880 \\pm 0.00314$$"
      ],
      "text/plain": [
       "<IPython.core.display.Latex object>"
      ]
     },
     "metadata": {},
     "output_type": "display_data"
    }
   ],
   "source": [
    "# Define variables:\n",
    "th,th_t,Dth = symbols(\"theta, theta_t, Delta_theta\")\n",
    "dth,dth_t,dDth = symbols(\"sigma_theta, sigma_theta_t, sigma_Delta_theta\")\n",
    "\n",
    "# Define relation, and print:\n",
    "th = th_t + Dth\n",
    "lprint(latex(Eq(symbols('theta'),th)))\n",
    "\n",
    "# Calculate uncertainty and print:\n",
    "dth = sqrt((th.diff(th_t) * dth_t)**2 + (th.diff(Dth) * dDth)**2)\n",
    "lprint(latex(Eq(symbols('sigma_theta'), dth)))\n",
    "\n",
    "# Turn expression into numerical functions \n",
    "# lambdify transform SymPy expressions to lambda functions which can be used to calculate numerical values very fast\n",
    "fth = lambdify((th_t,Dth),th)\n",
    "fdth = lambdify((th_t,dth_t,Dth,dDth),dth)\n",
    "\n",
    "# Define values and their errors\n",
    "vth_t, vdth_t = vtheta_trig, vdtheta_trig\n",
    "vDth, vdDth = vDth, vdDth\n",
    "\n",
    "# Numerically evaluate expressions and print \n",
    "vth_trig = fth(vth_t,vDth)\n",
    "vdth_trig = fdth(vth_t,vdth_t,vDth,vdDth)\n",
    "lprint(fr'theta_t = {vth_trig:.5f} \\pm {vdth_trig:.5f}')"
   ]
  },
  {
   "cell_type": "code",
   "execution_count": 23,
   "metadata": {},
   "outputs": [
    {
     "data": {
      "text/latex": [
       "$$\\theta = - \\Delta_{\\theta} + \\theta_{t}$$"
      ],
      "text/plain": [
       "<IPython.core.display.Latex object>"
      ]
     },
     "metadata": {},
     "output_type": "display_data"
    },
    {
     "data": {
      "text/latex": [
       "$$\\sigma_{\\theta} = \\sqrt{\\sigma_{\\Delta \\theta}^{2} + \\sigma_{\\theta t}^{2}}$$"
      ],
      "text/plain": [
       "<IPython.core.display.Latex object>"
      ]
     },
     "metadata": {},
     "output_type": "display_data"
    },
    {
     "data": {
      "text/latex": [
       "$$theta_t = 0.23511 \\pm 0.00314$$"
      ],
      "text/plain": [
       "<IPython.core.display.Latex object>"
      ]
     },
     "metadata": {},
     "output_type": "display_data"
    }
   ],
   "source": [
    "# Define variables:\n",
    "th,th_t,Dth = symbols(\"theta, theta_t, Delta_theta\")\n",
    "dth,dth_t,dDth = symbols(\"sigma_theta, sigma_theta_t, sigma_Delta_theta\")\n",
    "\n",
    "# Define relation, and print:\n",
    "th = th_t - Dth\n",
    "lprint(latex(Eq(symbols('theta'),th)))\n",
    "\n",
    "# Calculate uncertainty and print:\n",
    "dth = sqrt((th.diff(th_t) * dth_t)**2 + (th.diff(Dth) * dDth)**2)\n",
    "lprint(latex(Eq(symbols('sigma_theta'), dth)))\n",
    "\n",
    "# Turn expression into numerical functions \n",
    "# lambdify transform SymPy expressions to lambda functions which can be used to calculate numerical values very fast\n",
    "fth = lambdify((th_t,Dth),th)\n",
    "fdth = lambdify((th_t,dth_t,Dth,dDth),dth)\n",
    "\n",
    "# Define values and their errors\n",
    "vth_t, vdth_t = vtheta_trig, vdtheta_trig\n",
    "vDth, vdDth = vDth, vdDth\n",
    "\n",
    "# Numerically evaluate expressions and print \n",
    "vth_trig_r = fth(vth_t,vDth)\n",
    "vdth_trig_r = fdth(vth_t,vdth_t,vDth,vdDth)\n",
    "lprint(fr'theta_t = {vth_trig_r:.5f} \\pm {vdth_trig_r:.5f}')"
   ]
  },
  {
   "cell_type": "code",
   "execution_count": 24,
   "metadata": {},
   "outputs": [
    {
     "name": "stdout",
     "output_type": "stream",
     "text": [
      "weighted mean of theta: 0.24836169580634437 +- 0.002737804762810348\n"
     ]
    }
   ],
   "source": [
    "theta_array = np.array([theta_norm, vth_trig]) # theta_rev, vth_trig_r\n",
    "theta_errors = np.array([sigma_theta_norm, vdth_trig]) # , sigma_theta_rev, , vdth_trig_r\n",
    "theta_mean, sigma_theta_mean, theta_wmean, sigma_theta_wmean = get_mean(theta_array, theta_errors)\n",
    "print('weighted mean of theta:', theta_wmean, '+-', sigma_theta_wmean)"
   ]
  },
  {
   "cell_type": "markdown",
   "metadata": {},
   "source": [
    "## Calculation of g"
   ]
  },
  {
   "cell_type": "markdown",
   "metadata": {},
   "source": [
    "### for normal experiments"
   ]
  },
  {
   "cell_type": "markdown",
   "metadata": {},
   "source": [
    "#### Using theta obtained with goniometer"
   ]
  },
  {
   "cell_type": "code",
   "execution_count": 25,
   "metadata": {},
   "outputs": [
    {
     "data": {
      "text/latex": [
       "$$g_{g} = \\frac{a_{n} \\left(\\frac{0.4 D_{b}^{2}}{D_{b}^{2} - D_{r}^{2}} + 1\\right)}{\\sin{\\left(\\theta \\right)}}$$"
      ],
      "text/plain": [
       "<IPython.core.display.Latex object>"
      ]
     },
     "metadata": {},
     "output_type": "display_data"
    },
    {
     "data": {
      "text/latex": [
       "$$\\sigma_{g g} = \\sqrt{\\frac{0.64 D_{b}^{4} D_{r}^{2} a_{n}^{2} \\sigma_{D r}^{2}}{\\left(D_{b}^{2} - D_{r}^{2}\\right)^{4} \\sin^{2}{\\left(\\theta \\right)}} + \\frac{0.64 a_{n}^{2} \\sigma_{D b}^{2} \\left(- \\frac{D_{b}^{3}}{\\left(D_{b}^{2} - D_{r}^{2}\\right)^{2}} + \\frac{D_{b}}{D_{b}^{2} - D_{r}^{2}}\\right)^{2}}{\\sin^{2}{\\left(\\theta \\right)}} + \\frac{a_{n}^{2} \\sigma_{\\theta}^{2} \\left(\\frac{0.4 D_{b}^{2}}{D_{b}^{2} - D_{r}^{2}} + 1\\right)^{2} \\cos^{2}{\\left(\\theta \\right)}}{\\sin^{4}{\\left(\\theta \\right)}} + \\frac{\\sigma_{a n}^{2} \\left(\\frac{0.4 D_{b}^{2}}{D_{b}^{2} - D_{r}^{2}} + 1\\right)^{2}}{\\sin^{2}{\\left(\\theta \\right)}}}$$"
      ],
      "text/plain": [
       "<IPython.core.display.Latex object>"
      ]
     },
     "metadata": {},
     "output_type": "display_data"
    },
    {
     "data": {
      "text/latex": [
       "$$g_g = (9.46697 \\pm 0.26911)\\,\\mathrm{m/s^2}$$"
      ],
      "text/plain": [
       "<IPython.core.display.Latex object>"
      ]
     },
     "metadata": {},
     "output_type": "display_data"
    }
   ],
   "source": [
    "# Define variables:\n",
    "g_g,a_n,th,Db,Dr = symbols(\"g_g, a_n, theta, D_b, D_r\")\n",
    "dg_g,da_n,dth,dDb,dDr = symbols(\"sigma_g_g, sigma_a_n, sigma_theta, sigma_D_b, sigma_D_r\")\n",
    "\n",
    "# Define relation, and print:\n",
    "g_g = (a_n / sin(th)) * (1 + (2/5) * Db**2 / (Db**2 - Dr**2))\n",
    "lprint(latex(Eq(symbols('g_g'),g_g)))\n",
    "\n",
    "# Calculate uncertainty and print:\n",
    "dg_g = sqrt((g_g.diff(a_n) * da_n)**2 + (g_g.diff(th) * dth)**2 + (g_g.diff(Db) * dDb)**2 + (g_g.diff(Dr) * dDr)**2)\n",
    "lprint(latex(Eq(symbols('sigma_g_g'), dg_g)))\n",
    "\n",
    "# Turn expression into numerical functions \n",
    "# lambdify transform SymPy expressions to lambda functions which can be used to calculate numerical values very fast\n",
    "fg_g = lambdify((a_n,th,Db,Dr),g_g)\n",
    "fdg_g = lambdify((a_n,da_n,th,dth,Db,dDb,Dr,dDr),dg_g)\n",
    "\n",
    "# Define values and their errors\n",
    "va_n, vda_n = a_wmean, sigma_wa\n",
    "vth, vdth = wtheta_norm, sigma_theta_norm\n",
    "vDb, vdDb = wd_ball, sigma_wdball\n",
    "vDr, vdDr = wd_rail, sigma_wdrail\n",
    "\n",
    "# Numerically evaluate expressions and print \n",
    "vg_g = fg_g(va_n,vth,vDb,vDr)\n",
    "vdg_g = fdg_g(va_n,vda_n,vth,vdth,vDb,vdDb,vDr,vdDr)\n",
    "lprint(fr'g_g = ({vg_g:.5f} \\pm {vdg_g:.5f})\\,\\mathrm{{m/s^2}}')"
   ]
  },
  {
   "cell_type": "markdown",
   "metadata": {},
   "source": [
    "#### Using theta obtained by trigonometry"
   ]
  },
  {
   "cell_type": "code",
   "execution_count": 26,
   "metadata": {},
   "outputs": [
    {
     "data": {
      "text/latex": [
       "$$g_{t} = \\frac{a_{n} \\left(\\frac{0.4 D_{b}^{2}}{D_{b}^{2} - D_{r}^{2}} + 1\\right)}{\\sin{\\left(\\theta \\right)}}$$"
      ],
      "text/plain": [
       "<IPython.core.display.Latex object>"
      ]
     },
     "metadata": {},
     "output_type": "display_data"
    },
    {
     "data": {
      "text/latex": [
       "$$\\sigma_{g t} = \\sqrt{\\frac{0.64 D_{b}^{4} D_{r}^{2} a_{n}^{2} \\sigma_{D r}^{2}}{\\left(D_{b}^{2} - D_{r}^{2}\\right)^{4} \\sin^{2}{\\left(\\theta \\right)}} + \\frac{0.64 a_{n}^{2} \\sigma_{D b}^{2} \\left(- \\frac{D_{b}^{3}}{\\left(D_{b}^{2} - D_{r}^{2}\\right)^{2}} + \\frac{D_{b}}{D_{b}^{2} - D_{r}^{2}}\\right)^{2}}{\\sin^{2}{\\left(\\theta \\right)}} + \\frac{a_{n}^{2} \\sigma_{\\theta}^{2} \\left(\\frac{0.4 D_{b}^{2}}{D_{b}^{2} - D_{r}^{2}} + 1\\right)^{2} \\cos^{2}{\\left(\\theta \\right)}}{\\sin^{4}{\\left(\\theta \\right)}} + \\frac{\\sigma_{a n}^{2} \\left(\\frac{0.4 D_{b}^{2}}{D_{b}^{2} - D_{r}^{2}} + 1\\right)^{2}}{\\sin^{2}{\\left(\\theta \\right)}}}$$"
      ],
      "text/plain": [
       "<IPython.core.display.Latex object>"
      ]
     },
     "metadata": {},
     "output_type": "display_data"
    },
    {
     "data": {
      "text/latex": [
       "$$g_t = (9.42105 \\pm 0.20430)\\,\\mathrm{m/s^2}$$"
      ],
      "text/plain": [
       "<IPython.core.display.Latex object>"
      ]
     },
     "metadata": {},
     "output_type": "display_data"
    }
   ],
   "source": [
    "# Define variables:\n",
    "g_t,a_n,th,Db,Dr = symbols(\"g_t, a_n, theta, D_b, D_r\")\n",
    "dg_t,da_n,dth,dDb,dDr = symbols(\"sigma_g_t, sigma_a_n, sigma_theta, sigma_D_b, sigma_D_r\")\n",
    "\n",
    "# Define relation, and print:\n",
    "g_t = (a_n / sin(th)) * (1 + (2/5) * Db**2 / (Db**2 - Dr**2))\n",
    "lprint(latex(Eq(symbols('g_t'),g_t)))\n",
    "\n",
    "# Calculate uncertainty and print:\n",
    "dg_t = sqrt((g_t.diff(a_n) * da_n)**2 + (g_t.diff(th) * dth)**2 + (g_t.diff(Db) * dDb)**2 + (g_t.diff(Dr) * dDr)**2)\n",
    "lprint(latex(Eq(symbols('sigma_g_t'), dg_t)))\n",
    "\n",
    "# Turn expression into numerical functions \n",
    "# lambdify transform SymPy expressions to lambda functions which can be used to calculate numerical values very fast\n",
    "fg_t = lambdify((a_n,th,Db,Dr),g_t)\n",
    "fdg_t = lambdify((a_n,da_n,th,dth,Db,dDb,Dr,dDr),dg_t)\n",
    "\n",
    "# Define values and their errors\n",
    "va_n, vda_n = a_wmean, sigma_wa\n",
    "vth, vdth = vth_trig, vdth_trig\n",
    "vDb, vdDb = wd_ball, sigma_wdball\n",
    "vDr, vdDr = wd_rail, sigma_wdrail\n",
    "\n",
    "# Numerically evaluate expressions and print \n",
    "vg_t = fg_t(va_n,vth,vDb,vDr)\n",
    "vdg_t = fdg_t(va_n,vda_n,vth,vdth,vDb,vdDb,vDr,vdDr)\n",
    "lprint(fr'g_t = ({vg_t:.5f} \\pm {vdg_t:.5f})\\,\\mathrm{{m/s^2}}')"
   ]
  },
  {
   "cell_type": "markdown",
   "metadata": {},
   "source": [
    "### Calculation of g for reversed experiments"
   ]
  },
  {
   "cell_type": "markdown",
   "metadata": {},
   "source": [
    "#### Using theta obtained with goniometer"
   ]
  },
  {
   "cell_type": "code",
   "execution_count": 27,
   "metadata": {},
   "outputs": [
    {
     "data": {
      "text/latex": [
       "$$g_{g r} = \\frac{a_{r} \\left(\\frac{0.4 D_{b}^{2}}{D_{b}^{2} - D_{r}^{2}} + 1\\right)}{\\sin{\\left(\\theta \\right)}}$$"
      ],
      "text/plain": [
       "<IPython.core.display.Latex object>"
      ]
     },
     "metadata": {},
     "output_type": "display_data"
    },
    {
     "data": {
      "text/latex": [
       "$$\\sigma_{g r r} = \\sqrt{\\frac{0.64 D_{b}^{4} D_{r}^{2} a_{r}^{2} \\sigma_{D r}^{2}}{\\left(D_{b}^{2} - D_{r}^{2}\\right)^{4} \\sin^{2}{\\left(\\theta \\right)}} + \\frac{0.64 a_{r}^{2} \\sigma_{D b}^{2} \\left(- \\frac{D_{b}^{3}}{\\left(D_{b}^{2} - D_{r}^{2}\\right)^{2}} + \\frac{D_{b}}{D_{b}^{2} - D_{r}^{2}}\\right)^{2}}{\\sin^{2}{\\left(\\theta \\right)}} + \\frac{a_{r}^{2} \\sigma_{\\theta}^{2} \\left(\\frac{0.4 D_{b}^{2}}{D_{b}^{2} - D_{r}^{2}} + 1\\right)^{2} \\cos^{2}{\\left(\\theta \\right)}}{\\sin^{4}{\\left(\\theta \\right)}} + \\frac{\\sigma_{a r}^{2} \\left(\\frac{0.4 D_{b}^{2}}{D_{b}^{2} - D_{r}^{2}} + 1\\right)^{2}}{\\sin^{2}{\\left(\\theta \\right)}}}$$"
      ],
      "text/plain": [
       "<IPython.core.display.Latex object>"
      ]
     },
     "metadata": {},
     "output_type": "display_data"
    },
    {
     "data": {
      "text/latex": [
       "$$g_gr = (9.57537 \\pm 0.19818)\\,\\mathrm{m/s^2}$$"
      ],
      "text/plain": [
       "<IPython.core.display.Latex object>"
      ]
     },
     "metadata": {},
     "output_type": "display_data"
    }
   ],
   "source": [
    "# Define variables:\n",
    "g_gr,a_r,th,Db,Dr = symbols(\"g_g_r, a_r, theta, D_b, D_r\")\n",
    "dg_gr,da_r,dth,dDb,dDr = symbols(\"sigma_g_g_r, sigma_a_r, sigma_theta, sigma_D_b, sigma_D_r\")\n",
    "\n",
    "# Define relation, and print:\n",
    "g_gr = (a_r / sin(th)) * (1 + (2/5) * Db**2 / (Db**2 - Dr**2))\n",
    "lprint(latex(Eq(symbols('g_g_r'),g_gr)))\n",
    "\n",
    "# Calculate uncertainty and print:\n",
    "dg_gr = sqrt((g_gr.diff(a_r) * da_r)**2 + (g_gr.diff(th) * dth)**2 + (g_gr.diff(Db) * dDb)**2 + (g_gr.diff(Dr) * dDr)**2)\n",
    "lprint(latex(Eq(symbols('sigma_g_r_r'), dg_gr)))\n",
    "\n",
    "# Turn expression into numerical functions \n",
    "# lambdify transform SymPy expressions to lambda functions which can be used to calculate numerical values very fast\n",
    "fg_gr = lambdify((a_r,th,Db,Dr),g_gr)\n",
    "fdg_gr = lambdify((a_r,da_r,th,dth,Db,dDb,Dr,dDr),dg_gr)\n",
    "\n",
    "# Define values and their errors\n",
    "va_r, vda_r = a_wmean_rev, sigma_wa_rev\n",
    "vth, vdth = wtheta_rev, sigma_theta_rev\n",
    "vDb, vdDb = wd_ball, sigma_wdball\n",
    "vDr, vdDr = wd_rail, sigma_wdrail\n",
    "\n",
    "# Numerically evaluate expressions and print \n",
    "vg_gr = fg_gr(va_r,vth,vDb,vDr)\n",
    "vdg_gr = fdg_gr(va_r,vda_r,vth,vdth,vDb,vdDb,vDr,vdDr)\n",
    "lprint(fr'g_gr = ({vg_gr:.5f} \\pm {vdg_gr:.5f})\\,\\mathrm{{m/s^2}}')"
   ]
  },
  {
   "cell_type": "markdown",
   "metadata": {},
   "source": [
    "#### Using theta obtained by trigonometry"
   ]
  },
  {
   "cell_type": "code",
   "execution_count": 28,
   "metadata": {},
   "outputs": [
    {
     "data": {
      "text/latex": [
       "$$g_{t r} = \\frac{a_{r} \\left(\\frac{0.4 D_{b}^{2}}{D_{b}^{2} - D_{r}^{2}} + 1\\right)}{\\sin{\\left(\\theta \\right)}}$$"
      ],
      "text/plain": [
       "<IPython.core.display.Latex object>"
      ]
     },
     "metadata": {},
     "output_type": "display_data"
    },
    {
     "data": {
      "text/latex": [
       "$$\\sigma_{g t r} = \\sqrt{\\frac{0.64 D_{b}^{4} D_{r}^{2} a_{r}^{2} \\sigma_{D r}^{2}}{\\left(D_{b}^{2} - D_{r}^{2}\\right)^{4} \\sin^{2}{\\left(\\theta \\right)}} + \\frac{0.64 a_{r}^{2} \\sigma_{D b}^{2} \\left(- \\frac{D_{b}^{3}}{\\left(D_{b}^{2} - D_{r}^{2}\\right)^{2}} + \\frac{D_{b}}{D_{b}^{2} - D_{r}^{2}}\\right)^{2}}{\\sin^{2}{\\left(\\theta \\right)}} + \\frac{a_{r}^{2} \\sigma_{\\theta}^{2} \\left(\\frac{0.4 D_{b}^{2}}{D_{b}^{2} - D_{r}^{2}} + 1\\right)^{2} \\cos^{2}{\\left(\\theta \\right)}}{\\sin^{4}{\\left(\\theta \\right)}} + \\frac{\\sigma_{a r}^{2} \\left(\\frac{0.4 D_{b}^{2}}{D_{b}^{2} - D_{r}^{2}} + 1\\right)^{2}}{\\sin^{2}{\\left(\\theta \\right)}}}$$"
      ],
      "text/plain": [
       "<IPython.core.display.Latex object>"
      ]
     },
     "metadata": {},
     "output_type": "display_data"
    },
    {
     "data": {
      "text/latex": [
       "$$g_tr = (9.42105 \\pm 0.20859)\\,\\mathrm{m/s^2}$$"
      ],
      "text/plain": [
       "<IPython.core.display.Latex object>"
      ]
     },
     "metadata": {},
     "output_type": "display_data"
    }
   ],
   "source": [
    "# Define variables:\n",
    "g_tr,a_r,th,Db,Dr = symbols(\"g_t_r, a_r, theta, D_b, D_r\")\n",
    "dg_tr,da_r,dth,dDb,dDr = symbols(\"sigma_g_t_r, sigma_a_r, sigma_theta, sigma_D_b, sigma_D_r\")\n",
    "\n",
    "# Define relation, and print:\n",
    "g_tr = (a_r / sin(th)) * (1 + (2/5) * Db**2 / (Db**2 - Dr**2))\n",
    "lprint(latex(Eq(symbols('g_t_r'),g_tr)))\n",
    "\n",
    "# Calculate uncertainty and print:\n",
    "dg_tr = sqrt((g_tr.diff(a_r) * da_r)**2 + (g_tr.diff(th) * dth)**2 + (g_tr.diff(Db) * dDb)**2 + (g_tr.diff(Dr) * dDr)**2)\n",
    "lprint(latex(Eq(symbols('sigma_g_t_r'), dg_tr)))\n",
    "\n",
    "# Turn expression into numerical functions \n",
    "# lambdify transform SymPy expressions to lambda functions which can be used to calculate numerical values very fast\n",
    "fg_tr = lambdify((a_r,th,Db,Dr),g_tr)\n",
    "fdg_tr = lambdify((a_r,da_r,th,dth,Db,dDb,Dr,dDr),dg_tr)\n",
    "\n",
    "# Define values and their errors\n",
    "va_r, vda_r = a_wmean_rev, sigma_wa_rev\n",
    "vth, vdth = vth_trig_r, vdth_trig_r\n",
    "vDb, vdDb = wd_ball, sigma_wdball\n",
    "vDr, vdDr = wd_rail, sigma_wdrail\n",
    "\n",
    "# Numerically evaluate expressions and print \n",
    "vg_tr = fg_tr(va_r,vth,vDb,vDr)\n",
    "vdg_tr = fdg_tr(va_r,vda_r,vth,vdth,vDb,vdDb,vDr,vdDr)\n",
    "lprint(fr'g_tr = ({vg_tr:.5f} \\pm {vdg_tr:.5f})\\,\\mathrm{{m/s^2}}')"
   ]
  },
  {
   "cell_type": "code",
   "execution_count": 29,
   "metadata": {},
   "outputs": [
    {
     "name": "stdout",
     "output_type": "stream",
     "text": [
      "weighted mean of g: 9.473977971638416 +- 0.10769977271875811\n"
     ]
    }
   ],
   "source": [
    "g_array = np.array([vg_g, vg_gr, vg_t, vg_tr])\n",
    "g_error = np.array([vdg_g, vdg_gr, vdg_t, vdg_tr])\n",
    "\n",
    "g_mean, sigma_g_mean, g_wmean, sigma_g_wmean = get_mean(g_array, g_error)\n",
    "print('weighted mean of g:', g_wmean, '+-', sigma_g_wmean)"
   ]
  },
  {
   "cell_type": "markdown",
   "metadata": {},
   "source": [
    "### Using theta_wmean and weighted mean of acceleration"
   ]
  },
  {
   "cell_type": "code",
   "execution_count": 30,
   "metadata": {},
   "outputs": [
    {
     "data": {
      "text/latex": [
       "$$g = \\frac{a \\left(\\frac{0.4 D_{b}^{2}}{D_{b}^{2} - D_{r}^{2}} + 1\\right)}{\\sin{\\left(\\theta \\right)}}$$"
      ],
      "text/plain": [
       "<IPython.core.display.Latex object>"
      ]
     },
     "metadata": {},
     "output_type": "display_data"
    },
    {
     "data": {
      "text/latex": [
       "$$\\sigma_{g} = \\sqrt{\\frac{0.64 D_{b}^{4} D_{r}^{2} a^{2} \\sigma_{D r}^{2}}{\\left(D_{b}^{2} - D_{r}^{2}\\right)^{4} \\sin^{2}{\\left(\\theta \\right)}} + \\frac{0.64 a^{2} \\sigma_{D b}^{2} \\left(- \\frac{D_{b}^{3}}{\\left(D_{b}^{2} - D_{r}^{2}\\right)^{2}} + \\frac{D_{b}}{D_{b}^{2} - D_{r}^{2}}\\right)^{2}}{\\sin^{2}{\\left(\\theta \\right)}} + \\frac{a^{2} \\sigma_{\\theta}^{2} \\left(\\frac{0.4 D_{b}^{2}}{D_{b}^{2} - D_{r}^{2}} + 1\\right)^{2} \\cos^{2}{\\left(\\theta \\right)}}{\\sin^{4}{\\left(\\theta \\right)}} + \\frac{\\sigma_{a}^{2} \\left(\\frac{0.4 D_{b}^{2}}{D_{b}^{2} - D_{r}^{2}} + 1\\right)^{2}}{\\sin^{2}{\\left(\\theta \\right)}}}$$"
      ],
      "text/plain": [
       "<IPython.core.display.Latex object>"
      ]
     },
     "metadata": {},
     "output_type": "display_data"
    },
    {
     "data": {
      "text/latex": [
       "$$g = (9.43737 \\pm 0.19664)\\,\\mathrm{m/s^2}$$"
      ],
      "text/plain": [
       "<IPython.core.display.Latex object>"
      ]
     },
     "metadata": {},
     "output_type": "display_data"
    },
    {
     "name": "stdout",
     "output_type": "stream",
     "text": [
      "0.16808847472575422 -0.10188458709952682 -0.002494610580283317 0.005191607269570836\n"
     ]
    }
   ],
   "source": [
    "# Define variables:\n",
    "g,a,th,Db,Dr = symbols(\"g, a, theta, D_b, D_r\")\n",
    "dg,da,dth,dDb,dDr = symbols(\"sigma_g, sigma_a, sigma_theta, sigma_D_b, sigma_D_r\")\n",
    "\n",
    "# Define relation, and print:\n",
    "g = (a / sin(th)) * (1 + (2/5) * Db**2 / (Db**2 - Dr**2))\n",
    "lprint(latex(Eq(symbols('g'),g)))\n",
    "\n",
    "# Calculate uncertainty and print:\n",
    "dg = sqrt((g.diff(a) * da)**2 + (g.diff(th) * dth)**2 + (g.diff(Db) * dDb)**2 + (g.diff(Dr) * dDr)**2)\n",
    "lprint(latex(Eq(symbols('sigma_g'), dg)))\n",
    "\n",
    "# Calculate corresponding errors\n",
    "dga = g.diff(a)*da\n",
    "dgth= g.diff(th) * dth\n",
    "dgDb = g.diff(Db) * dDb\n",
    "dgDr = g.diff(Dr) * dDr\n",
    "\n",
    "# Turn expression into numerical functions \n",
    "# lambdify transform SymPy expressions to lambda functions which can be used to calculate numerical values very fast\n",
    "fg = lambdify((a,th,Db,Dr),g)\n",
    "fdg = lambdify((a,da,th,dth,Db,dDb,Dr,dDr),dg)\n",
    "\n",
    "fdga = lambdify((a,da,th,Db,Dr),dga)\n",
    "fdgth = lambdify((a,th,dth,Db,Dr),dgth)\n",
    "fdgDb = lambdify((a,th,Db,dDb,Dr),dgDb)\n",
    "fdgDr = lambdify((a,th,Db,Dr,dDr),dgDr)\n",
    "\n",
    "\n",
    "\n",
    "# Define values and their errors\n",
    "va, vda = a_wmean, sigma_wa\n",
    "vth, vdth = theta_wmean, sigma_theta_wmean\n",
    "vDb, vdDb = wd_ball, sigma_wdball\n",
    "vDr, vdDr = wd_rail, sigma_wdrail\n",
    "\n",
    "# Numerically evaluate expressions and print \n",
    "vg = fg(va,vth,vDb,vDr)\n",
    "vdg = fdg(va,vda,vth,vdth,vDb,vdDb,vDr,vdDr)\n",
    "lprint(fr'g = ({vg:.5f} \\pm {vdg:.5f})\\,\\mathrm{{m/s^2}}')\n",
    "print(fdga(va,vda,vth,vDb,vDr),fdgth(va,vth,vdth,vDb,vDr),fdgDb(va,vth,vDb,vdDb,vDr),fdgDr(va,vth,vDb,vDr,vdDr))"
   ]
  },
  {
   "cell_type": "code",
   "execution_count": null,
   "metadata": {},
   "outputs": [],
   "source": []
  }
 ],
 "metadata": {
  "kernelspec": {
   "display_name": "Python 3",
   "language": "python",
   "name": "python3"
  },
  "language_info": {
   "codemirror_mode": {
    "name": "ipython",
    "version": 3
   },
   "file_extension": ".py",
   "mimetype": "text/x-python",
   "name": "python",
   "nbconvert_exporter": "python",
   "pygments_lexer": "ipython3",
   "version": "3.10.11"
  }
 },
 "nbformat": 4,
 "nbformat_minor": 2
}
