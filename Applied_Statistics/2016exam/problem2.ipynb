{
 "cells": [
  {
   "cell_type": "code",
   "execution_count": 1,
   "metadata": {},
   "outputs": [],
   "source": [
    "import numpy as np                                     # Matlab like syntax for linear algebra and functions\n",
    "import matplotlib.pyplot as plt                        # Plots and figures like you know them from Matlab\n",
    "import seaborn as sns                                  # Make the plots nicer to look at\n",
    "from iminuit import Minuit                             # The actual fitting tool, better than scipy's\n",
    "import sys                                             # Module to see files and folders in directories\n",
    "from scipy import stats\n",
    "from scipy.integrate import quad, dblquad\n",
    "import statistics\n",
    "from sympy import *"
   ]
  },
  {
   "cell_type": "code",
   "execution_count": 2,
   "metadata": {},
   "outputs": [],
   "source": [
    "from IPython.core.display import Latex\n",
    "\n",
    "def lprint(*args,**kwargs):\n",
    "    \"\"\"Pretty print arguments as LaTeX using IPython display system \n",
    "    \n",
    "    Parameters\n",
    "    ----------\n",
    "    args : tuple \n",
    "        What to print (in LaTeX math mode)\n",
    "    kwargs : dict \n",
    "        optional keywords to pass to `display` \n",
    "    \"\"\"\n",
    "    display(Latex('$$'+' '.join(args)+'$$'),**kwargs)"
   ]
  },
  {
   "cell_type": "markdown",
   "metadata": {},
   "source": [
    "Problem 2.1"
   ]
  },
  {
   "cell_type": "code",
   "execution_count": 6,
   "metadata": {},
   "outputs": [
    {
     "data": {
      "text/latex": [
       "$$R = \\frac{L}{\\pi r^{2}}$$"
      ],
      "text/plain": [
       "<IPython.core.display.Latex object>"
      ]
     },
     "metadata": {},
     "output_type": "display_data"
    },
    {
     "data": {
      "text/latex": [
       "$$\\sigma_{R L} = \\frac{\\sigma_{L}^{2}}{\\pi^{2} r^{4}}$$"
      ],
      "text/plain": [
       "<IPython.core.display.Latex object>"
      ]
     },
     "metadata": {},
     "output_type": "display_data"
    },
    {
     "data": {
      "text/latex": [
       "$$\\sigma_{R r} = \\frac{4 L^{2} \\sigma_{r}^{2}}{\\pi^{2} r^{6}}$$"
      ],
      "text/plain": [
       "<IPython.core.display.Latex object>"
      ]
     },
     "metadata": {},
     "output_type": "display_data"
    }
   ],
   "source": [
    "# Define variables:\n",
    "R, L, r, pi = symbols('R, L, r, pi')\n",
    "dR_L, dR_r, dL, dr = symbols('sigma_R_L, sigma_R_r, sigma_L, sigma_r')\n",
    "\n",
    "# Define relation, and print:\n",
    "R = L/(pi*r**2)\n",
    "lprint(latex(Eq(symbols('R'), R)))\n",
    "\n",
    "# Calculate uncertainty and print:\n",
    "dR_L = (R.diff(L) * dL)**2\n",
    "lprint(latex(Eq(symbols('sigma_R_L'), dR_L)))\n",
    "dR_r = (R.diff(r) * dr)**2\n",
    "lprint(latex(Eq(symbols('sigma_R_r'), dR_r)))"
   ]
  },
  {
   "cell_type": "markdown",
   "metadata": {},
   "source": [
    "Problem 2.2"
   ]
  },
  {
   "cell_type": "code",
   "execution_count": 27,
   "metadata": {},
   "outputs": [],
   "source": [
    "v = np.array([3.61, 2.00, 3.90, 2.23, 2.32, 2.48, 2.43, 3.86, 4.43, 3.78])*10**2 # m/s\n",
    "m_bullet = 8.4/1000 # g\n",
    "sigma_m = 0.5/1000 # g"
   ]
  },
  {
   "cell_type": "code",
   "execution_count": 28,
   "metadata": {},
   "outputs": [
    {
     "name": "stdout",
     "output_type": "stream",
     "text": [
      "Average speed: 310.4 +- 28.121640540101257\n"
     ]
    }
   ],
   "source": [
    "# Assuming errors are Gaussian distributed\n",
    "v_mean, v_sigma = v.mean(), v.std(ddof=1)/np.sqrt(len(v))\n",
    "print('Average speed:', v.mean(), '+-', v.std(ddof=1)/np.sqrt(len(v)))"
   ]
  },
  {
   "cell_type": "code",
   "execution_count": 29,
   "metadata": {},
   "outputs": [
    {
     "data": {
      "text/latex": [
       "$$E_{k} = 0.5 m v^{2}$$"
      ],
      "text/plain": [
       "<IPython.core.display.Latex object>"
      ]
     },
     "metadata": {},
     "output_type": "display_data"
    },
    {
     "data": {
      "text/latex": [
       "$$\\sigma_{E k} = \\sqrt{1.0 m^{2} \\sigma_{v}^{2} v^{2} + 0.25 \\sigma_{m}^{2} v^{4}}$$"
      ],
      "text/plain": [
       "<IPython.core.display.Latex object>"
      ]
     },
     "metadata": {},
     "output_type": "display_data"
    },
    {
     "data": {
      "text/latex": [
       "$$E_k = (404.7 \\pm 77.2)\\,\\mathrm{J}$$"
      ],
      "text/plain": [
       "<IPython.core.display.Latex object>"
      ]
     },
     "metadata": {},
     "output_type": "display_data"
    }
   ],
   "source": [
    "# Define variables:\n",
    "E_k, m, v = symbols('E_k, m, v')\n",
    "dE_k, dm, dv = symbols('sigma_E_k, sigma_m, sigma_v')\n",
    "\n",
    "# Define relation, and print:\n",
    "E_k = 0.5 * m * v**2\n",
    "lprint(latex(Eq(symbols('E_k'), E_k)))\n",
    "\n",
    "# Calculate uncertainty and print:\n",
    "dE_k = sqrt((E_k.diff(m) * dm)**2 + (E_k.diff(v) * dv)**2)\n",
    "lprint(latex(Eq(symbols('sigma_E_k'), dE_k)))\n",
    "\n",
    "# Turn expression into numerical functions \n",
    "fE_k = lambdify((m, v), E_k)\n",
    "fdE_k = lambdify((m, dm, v, dv), dE_k)\n",
    "\n",
    "# Define values and their errors\n",
    "vm, vdm = m_bullet, sigma_m\n",
    "vv, vdv = v_mean, v_sigma\n",
    "\n",
    "# Numerically evaluate expressions and print\n",
    "vE_k = fE_k(vm, vv)\n",
    "vdE_k = fdE_k(vm, vdm, vv, vdv)\n",
    "\n",
    "lprint(fr'E_k = ({vE_k:.1f} \\pm {vdE_k:.1f})\\,\\mathrm{{J}}')"
   ]
  },
  {
   "cell_type": "code",
   "execution_count": 32,
   "metadata": {},
   "outputs": [
    {
     "data": {
      "text/latex": [
       "$$E_{k} = 0.5 m v^{2}$$"
      ],
      "text/plain": [
       "<IPython.core.display.Latex object>"
      ]
     },
     "metadata": {},
     "output_type": "display_data"
    },
    {
     "data": {
      "text/latex": [
       "$$\\sigma_{E m} = 0.5 \\sigma_{m} v^{2}$$"
      ],
      "text/plain": [
       "<IPython.core.display.Latex object>"
      ]
     },
     "metadata": {},
     "output_type": "display_data"
    },
    {
     "data": {
      "text/latex": [
       "$$\\sigma_{E v} = 1.0 m \\sigma_{v} v$$"
      ],
      "text/plain": [
       "<IPython.core.display.Latex object>"
      ]
     },
     "metadata": {},
     "output_type": "display_data"
    },
    {
     "data": {
      "text/latex": [
       "$$\\sigma_Em = 24.08704$$"
      ],
      "text/plain": [
       "<IPython.core.display.Latex object>"
      ]
     },
     "metadata": {},
     "output_type": "display_data"
    },
    {
     "data": {
      "text/latex": [
       "$$\\sigma_Ev = 73.32324067863841$$"
      ],
      "text/plain": [
       "<IPython.core.display.Latex object>"
      ]
     },
     "metadata": {},
     "output_type": "display_data"
    }
   ],
   "source": [
    "# Define variables:\n",
    "E_k, m, v = symbols('E_k, m, v')\n",
    "dE_m, dE_v, dm, dv = symbols('sigma_E_m, sigma_E_v, sigma_m, sigma_v')\n",
    "\n",
    "# Define relation, and print:\n",
    "E_k = 0.5 * m * v**2\n",
    "lprint(latex(Eq(symbols('E_k'), E_k)))\n",
    "\n",
    "# Calculate uncertainty and print:\n",
    "dE_m = (E_k.diff(m) * dm)\n",
    "dE_v = (E_k.diff(v) * dv)\n",
    "lprint(latex(Eq(symbols('sigma_E_m'), dE_m)))\n",
    "lprint(latex(Eq(symbols('sigma_E_v'), dE_v)))\n",
    "\n",
    "# Turn expression into numerical functions \n",
    "fdE_m = lambdify((m, dm, v), dE_m)\n",
    "fdE_v = lambdify((m, v, dv), dE_v)\n",
    "\n",
    "# Define values and their errors\n",
    "vm, vdm = m_bullet, sigma_m\n",
    "vv, vdv = v_mean, v_sigma\n",
    "\n",
    "# Numerically evaluate expressions and print\n",
    "vdE_m = fdE_m(vm, vdm, vv)\n",
    "vdE_v = fdE_v(vm, vv, vdv)\n",
    "\n",
    "lprint(fr'\\sigma_Em = {vdE_m}')\n",
    "lprint(fr'\\sigma_Ev = {vdE_v}')"
   ]
  },
  {
   "cell_type": "code",
   "execution_count": 36,
   "metadata": {},
   "outputs": [
    {
     "name": "stdout",
     "output_type": "stream",
     "text": [
      "Uncertainty in velocity should drop by a factor: 3.0440951100109612\n",
      "This requires 9.266515038792646 more experiments\n",
      "Total number of experiments: 92.66515038792646\n"
     ]
    }
   ],
   "source": [
    "# Even contribution from speed and mass uncertainties\n",
    "print('Uncertainty in velocity should drop by a factor:', vdE_v/vdE_m)\n",
    "print('This requires', (vdE_v/vdE_m)**2, 'more experiments')\n",
    "print('Total number of experiments:', 10 * (vdE_v/vdE_m)**2)"
   ]
  }
 ],
 "metadata": {
  "kernelspec": {
   "display_name": "Python 3",
   "language": "python",
   "name": "python3"
  },
  "language_info": {
   "codemirror_mode": {
    "name": "ipython",
    "version": 3
   },
   "file_extension": ".py",
   "mimetype": "text/x-python",
   "name": "python",
   "nbconvert_exporter": "python",
   "pygments_lexer": "ipython3",
   "version": "3.10.11"
  }
 },
 "nbformat": 4,
 "nbformat_minor": 2
}
