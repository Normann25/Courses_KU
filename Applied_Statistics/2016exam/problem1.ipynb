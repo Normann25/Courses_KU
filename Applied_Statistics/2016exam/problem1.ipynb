{
 "cells": [
  {
   "cell_type": "code",
   "execution_count": 24,
   "metadata": {},
   "outputs": [],
   "source": [
    "import numpy as np                                     # Matlab like syntax for linear algebra and functions\n",
    "import matplotlib.pyplot as plt                        # Plots and figures like you know them from Matlab\n",
    "import seaborn as sns                                  # Make the plots nicer to look at\n",
    "from iminuit import Minuit                             # The actual fitting tool, better than scipy's\n",
    "import sys                                             # Module to see files and folders in directories\n",
    "from scipy import stats\n",
    "from scipy.integrate import quad, dblquad\n",
    "import statistics"
   ]
  },
  {
   "cell_type": "markdown",
   "metadata": {},
   "source": [
    "Problem 1.1"
   ]
  },
  {
   "cell_type": "code",
   "execution_count": 3,
   "metadata": {},
   "outputs": [
    {
     "name": "stdout",
     "output_type": "stream",
     "text": [
      "0.4822530864197532\n"
     ]
    }
   ],
   "source": [
    "# Game 1\n",
    "## Chance of getting no sixes in four rolls\n",
    "p_1_no = (5/6)**4\n",
    "print(p_1_no)"
   ]
  },
  {
   "cell_type": "code",
   "execution_count": 4,
   "metadata": {},
   "outputs": [
    {
     "name": "stdout",
     "output_type": "stream",
     "text": [
      "0.5085961238690966\n"
     ]
    }
   ],
   "source": [
    "# Game 2\n",
    "## Chance of not getting double sixes in 24 rolls\n",
    "p_2_no = (35/36)**24\n",
    "print(p_2_no)"
   ]
  },
  {
   "cell_type": "code",
   "execution_count": 5,
   "metadata": {},
   "outputs": [
    {
     "name": "stdout",
     "output_type": "stream",
     "text": [
      "Probability of winning game 1: 0.5177469135802468\n",
      "Probability of winning game 2: 0.4914038761309034\n"
     ]
    }
   ],
   "source": [
    "print('Probability of winning game 1:', 1-p_1_no)\n",
    "print('Probability of winning game 2:', 1-p_2_no)"
   ]
  },
  {
   "cell_type": "markdown",
   "metadata": {},
   "source": [
    "Problem 1.2"
   ]
  },
  {
   "cell_type": "code",
   "execution_count": 13,
   "metadata": {},
   "outputs": [
    {
     "name": "stdout",
     "output_type": "stream",
     "text": [
      "Probability of 42 or more events: 3.1730084143477555e-06\n"
     ]
    }
   ],
   "source": [
    "# Poisson\n",
    "t = 1730 # days\n",
    "bg_rate = 18.9 # event per day\n",
    "\n",
    "print('Probability of 42 or more events:', 1-stats.poisson.cdf(41, bg_rate))"
   ]
  },
  {
   "cell_type": "markdown",
   "metadata": {},
   "source": [
    "Problem 1.3"
   ]
  },
  {
   "cell_type": "code",
   "execution_count": 14,
   "metadata": {},
   "outputs": [],
   "source": [
    "mu = 1.68 # m\n",
    "sigma = 0.06 # m"
   ]
  },
  {
   "cell_type": "code",
   "execution_count": 15,
   "metadata": {},
   "outputs": [
    {
     "name": "stdout",
     "output_type": "stream",
     "text": [
      "Fraction taller than 1.85m: 0.002303266131695847\n"
     ]
    }
   ],
   "source": [
    "print('Fraction taller than 1.85m:', 1-stats.norm.cdf(1.85, mu, sigma))"
   ]
  },
  {
   "cell_type": "code",
   "execution_count": 26,
   "metadata": {},
   "outputs": [
    {
     "name": "stdout",
     "output_type": "stream",
     "text": [
      "Average height of 20% tallest women: 1.763677637760455\n"
     ]
    }
   ],
   "source": [
    "runs = 10000\n",
    "heights = np.random.normal(mu, sigma, runs)\n",
    "heights = sorted(heights)\n",
    "print('Average height of 20% tallest women:', np.array(heights[8000:]).mean())"
   ]
  }
 ],
 "metadata": {
  "kernelspec": {
   "display_name": "Python 3",
   "language": "python",
   "name": "python3"
  },
  "language_info": {
   "codemirror_mode": {
    "name": "ipython",
    "version": 3
   },
   "file_extension": ".py",
   "mimetype": "text/x-python",
   "name": "python",
   "nbconvert_exporter": "python",
   "pygments_lexer": "ipython3",
   "version": "3.10.11"
  }
 },
 "nbformat": 4,
 "nbformat_minor": 2
}
