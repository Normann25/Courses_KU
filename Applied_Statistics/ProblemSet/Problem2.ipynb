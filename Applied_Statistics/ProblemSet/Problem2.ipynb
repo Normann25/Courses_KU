{
 "cells": [
  {
   "cell_type": "markdown",
   "metadata": {},
   "source": [
    "## II. Error propagation:"
   ]
  },
  {
   "cell_type": "code",
   "execution_count": 1,
   "metadata": {},
   "outputs": [],
   "source": [
    "import numpy as np                                     # Matlab like syntax for linear algebra and functions\n",
    "import matplotlib.pyplot as plt                        # Plots and figures like you know them from Matlab\n",
    "import seaborn as sns                                  # Make the plots nicer to look at\n",
    "from iminuit import Minuit                             # The actual fitting tool, better than scipy's\n",
    "import sys                                             # Module to see files and folders in directories\n",
    "from scipy import stats\n",
    "from sympy import *"
   ]
  },
  {
   "cell_type": "code",
   "execution_count": 2,
   "metadata": {},
   "outputs": [],
   "source": [
    "sys.path.append('../External_Functions')\n",
    "from ExternalFunctions import nice_string_output, add_text_to_ax   # Useful functions to print fit results on figure"
   ]
  },
  {
   "cell_type": "code",
   "execution_count": 3,
   "metadata": {},
   "outputs": [],
   "source": [
    "from IPython.core.display import Latex\n",
    "\n",
    "def lprint(*args,**kwargs):\n",
    "    \"\"\"Pretty print arguments as LaTeX using IPython display system \n",
    "    \n",
    "    Parameters\n",
    "    ----------\n",
    "    args : tuple \n",
    "        What to print (in LaTeX math mode)\n",
    "    kwargs : dict \n",
    "        optional keywords to pass to `display` \n",
    "    \"\"\"\n",
    "    display(Latex('$$'+' '.join(args)+'$$'),**kwargs)"
   ]
  },
  {
   "cell_type": "markdown",
   "metadata": {},
   "source": [
    "### 2.1 (8 points) Let x = 1.043 pm 0.014 and y = 0.07 pm 0.23, and let z1 = xye**(-y) and z2 = (y+1)**3 / (x-1)."
   ]
  },
  {
   "cell_type": "markdown",
   "metadata": {},
   "source": [
    "Which of the (uncorrelated) variables x and y contributes most to the uncertainty on z1?"
   ]
  },
  {
   "cell_type": "code",
   "execution_count": 4,
   "metadata": {},
   "outputs": [],
   "source": [
    "x = 1.043\n",
    "ex = 0.014\n",
    "y = 0.07\n",
    "ey = 0.23"
   ]
  },
  {
   "cell_type": "code",
   "execution_count": 5,
   "metadata": {},
   "outputs": [
    {
     "data": {
      "text/latex": [
       "$$z_{1} = x y e^{- y}$$"
      ],
      "text/plain": [
       "<IPython.core.display.Latex object>"
      ]
     },
     "metadata": {},
     "output_type": "display_data"
    },
    {
     "data": {
      "text/latex": [
       "$$\\sigma_{z1 x} = \\sigma_{x} y e^{- y}$$"
      ],
      "text/plain": [
       "<IPython.core.display.Latex object>"
      ]
     },
     "metadata": {},
     "output_type": "display_data"
    },
    {
     "data": {
      "text/latex": [
       "$$\\sigma_{z1 y} = \\sigma_{y} \\left(- x y e^{- y} + x e^{- y}\\right)$$"
      ],
      "text/plain": [
       "<IPython.core.display.Latex object>"
      ]
     },
     "metadata": {},
     "output_type": "display_data"
    },
    {
     "data": {
      "text/latex": [
       "$$\\sigma_x = 0.0009137459435078295$$"
      ],
      "text/plain": [
       "<IPython.core.display.Latex object>"
      ]
     },
     "metadata": {},
     "output_type": "display_data"
    },
    {
     "data": {
      "text/latex": [
       "$$\\sigma_y = 0.20801491671523129$$"
      ],
      "text/plain": [
       "<IPython.core.display.Latex object>"
      ]
     },
     "metadata": {},
     "output_type": "display_data"
    }
   ],
   "source": [
    "# Define variables:\n",
    "Z1, X, Y = symbols('z1, x, y')\n",
    "dZ1_X, dZ1_Y, dX, dY = symbols('sigma_z1_x, sigma_z1_y, sigma_x, sigma_y')\n",
    "\n",
    "# Define relation, and print:\n",
    "Z1 = X * Y * exp(-Y)\n",
    "lprint(latex(Eq(symbols('z1'), Z1)))\n",
    "\n",
    "# Calculate uncertainty and print:\n",
    "dZ1_X = Z1.diff(X) * dX\n",
    "lprint(latex(Eq(symbols('sigma_z1_x'), dZ1_X)))\n",
    "dZ1_Y = Z1.diff(Y) * dY\n",
    "lprint(latex(Eq(symbols('sigma_z1_y'), dZ1_Y)))\n",
    "\n",
    "# Turn expression into numerical functions \n",
    "# fZ1 = lambdify((X, Y), Z1)\n",
    "fdZ1_X = lambdify((X, dX, Y), dZ1_X)\n",
    "fdZ1_Y = lambdify((X, Y, dY), dZ1_Y)\n",
    "\n",
    "# Define values and their errors\n",
    "vX, vdX = x, ex\n",
    "vY, vdY = y, ey\n",
    "\n",
    "# Numerically evaluate expressions and print \n",
    "# vZ1 = fZ1(vX, vY)\n",
    "vdZ1_X = fdZ1_X(vX, vdX, vY)\n",
    "vdZ1_Y = fdZ1_Y(vX, vY, vdY)\n",
    "# lprint(fr'z_1 = {vZ1}')\n",
    "lprint(fr'\\sigma_x = {vdZ1_X}')\n",
    "lprint(fr'\\sigma_y = {vdZ1_Y}')"
   ]
  },
  {
   "cell_type": "markdown",
   "metadata": {},
   "source": [
    "What are the uncertainties of z1 and z2, if x and y are correlated with rho = 0.4?"
   ]
  },
  {
   "cell_type": "code",
   "execution_count": 6,
   "metadata": {},
   "outputs": [],
   "source": [
    "rho_xy = 0.4"
   ]
  },
  {
   "cell_type": "code",
   "execution_count": 7,
   "metadata": {},
   "outputs": [
    {
     "data": {
      "text/latex": [
       "$$z_{1} = x y e^{- y}$$"
      ],
      "text/plain": [
       "<IPython.core.display.Latex object>"
      ]
     },
     "metadata": {},
     "output_type": "display_data"
    },
    {
     "data": {
      "text/latex": [
       "$$\\sigma_{z1} = \\sqrt{2 \\rho_{x y} \\sigma_{x} \\sigma_{y} y \\left(- x y e^{- y} + x e^{- y}\\right) e^{- y} + \\sigma_{x}^{2} y^{2} e^{- 2 y} + \\sigma_{y}^{2} \\left(- x y e^{- y} + x e^{- y}\\right)^{2}}$$"
      ],
      "text/plain": [
       "<IPython.core.display.Latex object>"
      ]
     },
     "metadata": {},
     "output_type": "display_data"
    },
    {
     "data": {
      "text/latex": [
       "$$\\sigma_1 = 0.20838209792773468$$"
      ],
      "text/plain": [
       "<IPython.core.display.Latex object>"
      ]
     },
     "metadata": {},
     "output_type": "display_data"
    }
   ],
   "source": [
    "# Define variables:\n",
    "Z1, X, Y = symbols('z1, x, y')\n",
    "dZ1, dX, dY, rho = symbols('sigma_z1, sigma_x, sigma_y, rho_x_y')\n",
    "\n",
    "# Define relation, and print:\n",
    "Z1 = X * Y * exp(-Y)\n",
    "lprint(latex(Eq(symbols('z1'), Z1)))\n",
    "\n",
    "# Calculate uncertainty and print:\n",
    "dZ1 = sqrt((Z1.diff(X) * dX)**2 + (Z1.diff(Y) * dY)**2 + 2 * Z1.diff(X) * Z1.diff(Y) * rho * dX * dY)\n",
    "lprint(latex(Eq(symbols('sigma_z1'), dZ1)))\n",
    "\n",
    "# Turn expression into numerical functions \n",
    "fdZ1 = lambdify((X, dX, Y, dY, rho), dZ1)\n",
    "\n",
    "# Define values and their errors\n",
    "vX, vdX = x, ex\n",
    "vY, vdY = y, ey\n",
    "vrho = rho_xy\n",
    "\n",
    "# Numerically evaluate expressions and print \n",
    "vdZ1 = fdZ1(vX, vdX, vY, vdY, vrho)\n",
    "lprint(fr'\\sigma_1 = {vdZ1}')"
   ]
  },
  {
   "cell_type": "code",
   "execution_count": 8,
   "metadata": {},
   "outputs": [
    {
     "data": {
      "text/latex": [
       "$$z_{2} = \\frac{\\left(y + 1\\right)^{3}}{x - 1}$$"
      ],
      "text/plain": [
       "<IPython.core.display.Latex object>"
      ]
     },
     "metadata": {},
     "output_type": "display_data"
    },
    {
     "data": {
      "text/latex": [
       "$$\\sigma_{z2} = \\sqrt{- \\frac{6 \\rho_{x y} \\sigma_{x} \\sigma_{y} \\left(y + 1\\right)^{5}}{\\left(x - 1\\right)^{3}} + \\frac{\\sigma_{x}^{2} \\left(y + 1\\right)^{6}}{\\left(x - 1\\right)^{4}} + \\frac{9 \\sigma_{y}^{2} \\left(y + 1\\right)^{4}}{\\left(x - 1\\right)^{2}}}$$"
      ],
      "text/plain": [
       "<IPython.core.display.Latex object>"
      ]
     },
     "metadata": {},
     "output_type": "display_data"
    },
    {
     "data": {
      "text/latex": [
       "$$\\sigma_2 = 16.947798927018667$$"
      ],
      "text/plain": [
       "<IPython.core.display.Latex object>"
      ]
     },
     "metadata": {},
     "output_type": "display_data"
    }
   ],
   "source": [
    "# Define variables:\n",
    "Z2, X, Y = symbols('z2, x, y')\n",
    "dZ2, dX, dY, rho = symbols('sigma_z2, sigma_x, sigma_y, rho_x_y')\n",
    "\n",
    "# Define relation, and print:\n",
    "Z2 = (Y+1)**3 / (X-1)\n",
    "lprint(latex(Eq(symbols('z2'), Z2)))\n",
    "\n",
    "# Calculate uncertainty and print:\n",
    "dZ2 = sqrt((Z2.diff(X) * dX)**2 + (Z2.diff(Y) * dY)**2 + 2 * Z2.diff(X) * Z2.diff(Y) * rho * dX * dY)\n",
    "lprint(latex(Eq(symbols('sigma_z2'), dZ2)))\n",
    "\n",
    "# Turn expression into numerical functions \n",
    "fdZ2 = lambdify((X, dX, Y, dY, rho), dZ2)\n",
    "\n",
    "# Define values and their errors\n",
    "vX, vdX = x, ex\n",
    "vY, vdY = y, ey\n",
    "vrho = rho_xy\n",
    "\n",
    "# Numerically evaluate expressions and print \n",
    "vdZ2 = fdZ2(vX, vdX, vY, vdY, vrho)\n",
    "lprint(fr'\\sigma_2 = {vdZ2}')"
   ]
  },
  {
   "cell_type": "markdown",
   "metadata": {},
   "source": [
    "Plot z1 in [-2; 2] against z2 in [-10; 90]. In this range, what is the z1 vs. z2 correlation?"
   ]
  },
  {
   "cell_type": "code",
   "execution_count": 9,
   "metadata": {},
   "outputs": [],
   "source": [
    "samples = 1000\n",
    "\n",
    "x = 1.043 \n",
    "y = 0.07\n",
    "xsigma = 0.014\n",
    "ysigma = 0.23\n",
    "\n",
    "# Generate random numbers from a gaussian distribution with known mean and sigma\n",
    "xs = stats.norm.rvs(x, xsigma, size = samples)\n",
    "ys = stats.norm.rvs(y, ysigma, size = samples)\n",
    "\n",
    "def z1(x,y):\n",
    "    return x*y*np.exp(-y)\n",
    "def z2(x,y):\n",
    "    return (y+1)**3/(x-1)\n",
    "z1s = z1(xs, ys)\n",
    "z2s = z2(xs, ys)"
   ]
  },
  {
   "cell_type": "code",
   "execution_count": 10,
   "metadata": {},
   "outputs": [
    {
     "name": "stdout",
     "output_type": "stream",
     "text": [
      "[[1.         0.74714801]\n",
      " [0.74714801 1.        ]]\n",
      "0.7332140186223961 +- 0.0013817051402984278\n"
     ]
    },
    {
     "data": {
      "image/png": "[encoded data removed]",
      "text/plain": [
       "<Figure size 640x480 with 1 Axes>"
      ]
     },
     "metadata": {},
     "output_type": "display_data"
    }
   ],
   "source": [
    "# Only get samples wihtin the bounds\n",
    "mask = (z1s > -2)  *\\\n",
    "       (z1s < 2)   *\\\n",
    "       (z2s > -10) *\\\n",
    "       (z2s < 90)\n",
    "\n",
    "# Plot z2 vs z1\n",
    "plt.scatter(z1s[mask], z2s[mask], s= 3)\n",
    "plt.xlabel('z$_{1}\\in[-2,2]$')\n",
    "plt.ylabel('z$_{2}\\in[-10,90]$')\n",
    "plt.tight_layout()\n",
    "plt.savefig('z1_vs_z2.png', dpi=150)\n",
    "print(np.corrcoef(z1s[mask], z2s[mask]))\n",
    "\n",
    "# Only necessary if uncertainty on the correlation is wanted\n",
    "runs = 100\n",
    "corr = np.zeros(runs)\n",
    "for i in range(runs):\n",
    "    xs = stats.norm.rvs(x, xsigma, size = samples)\n",
    "    ys = stats.norm.rvs(y, ysigma, size = samples)\n",
    "\n",
    "    z1s = z1(xs, ys)\n",
    "    z2s = z2(xs, ys)\n",
    "\n",
    "    mask = (z1s > -2)  *\\\n",
    "           (z1s < 2)   *\\\n",
    "           (z2s > -10) *\\\n",
    "           (z2s < 90)\n",
    "    \n",
    "    corr[i] = np.corrcoef(z1s[mask], z2s[mask])[0,1]\n",
    "\n",
    "print(np.mean(corr), '+-', np.std(corr, ddof=1)/np.sqrt(runs))"
   ]
  },
  {
   "cell_type": "code",
   "execution_count": 11,
   "metadata": {},
   "outputs": [],
   "source": [
    "def z1_func(x, y):\n",
    "    return x * y * np.exp**(-y)\n",
    "\n",
    "def z2_func(x, y):\n",
    "    return (y + 1)**3 / (x - 1)"
   ]
  },
  {
   "attachments": {
    "image.png": {
     "image/png": "[encoded data removed]"
    }
   },
   "cell_type": "markdown",
   "metadata": {},
   "source": [
    "### 2.2 (7 points) In a (Cavendish) experiment, you have made five measurements of Earth's density rho:\n",
    "\n",
    "![image.png](attachment:image.png)"
   ]
  },
  {
   "cell_type": "code",
   "execution_count": 12,
   "metadata": {},
   "outputs": [],
   "source": [
    "rho_array = np.array([5.50, 5.61, 4.88, 5.07, 5.26])\n",
    "sigma_rho_array = np.array([0.10, 0.21, 0.15, 0.14, 0.13])"
   ]
  },
  {
   "cell_type": "markdown",
   "metadata": {},
   "source": [
    "What is the combined result and uncertainty of these five measurements?"
   ]
  },
  {
   "cell_type": "code",
   "execution_count": 13,
   "metadata": {},
   "outputs": [],
   "source": [
    "def get_mean(x):\n",
    "    mu = np.sum(x) / len(x)\n",
    "    std = np.sqrt((1 / (len(x) - 1)) * np.sum((x - mu)**2))\n",
    "    return mu, std\n",
    "\n",
    "def get_weigthed_mean(x, ex):\n",
    "    mu_w = np.sum(x / ex**2) / np.sum(1 / ex**2)\n",
    "    sigma_wmean = np.sqrt(1 / np.sum(1 / ex**2))\n",
    "    return mu_w, sigma_wmean"
   ]
  },
  {
   "cell_type": "code",
   "execution_count": 14,
   "metadata": {},
   "outputs": [
    {
     "name": "stdout",
     "output_type": "stream",
     "text": [
      "Density of Earth: 5.279305828390056 +- 0.06005034708204228\n"
     ]
    }
   ],
   "source": [
    "rho_wmean, sigma_wmean = get_weigthed_mean(rho_array, sigma_rho_array)\n",
    "\n",
    "print('Density of Earth:', rho_wmean, '+-', sigma_wmean)"
   ]
  },
  {
   "cell_type": "markdown",
   "metadata": {},
   "source": [
    "Are your measurements consistent with each other? If not, what is then your best estimate?"
   ]
  },
  {
   "cell_type": "code",
   "execution_count": 15,
   "metadata": {},
   "outputs": [],
   "source": [
    "# går ud fra at man måler det samme\n",
    "# hvad er sansyndligheden for at variationen er tilfældig?"
   ]
  },
  {
   "cell_type": "code",
   "execution_count": 16,
   "metadata": {},
   "outputs": [],
   "source": [
    "def consistent(mu_array, sigma_array):\n",
    "    D_list = []\n",
    "    sigma_D_list = []\n",
    "    index_list = []\n",
    "    prop_list = []\n",
    "\n",
    "    # Define variables:\n",
    "    x, y, D = symbols('x, y, D')\n",
    "    dx, dy, dD = symbols('sigma_x, sigma_y, sigma_D')\n",
    "\n",
    "    # Define relation:\n",
    "    D = x - y\n",
    "\n",
    "    # Calculate uncertainty:\n",
    "    dD = sqrt((D.diff(x) * dx)**2 + (D.diff(y) * dy)**2)\n",
    "\n",
    "    # Turn expression into numerical functions \n",
    "    # lambdify transform SymPy expressions to lambda functions which can be used to calculate numerical values very fast\n",
    "    fD = lambdify((x,y),D)\n",
    "    fdD = lambdify((x,dx,y,dy),dD)\n",
    "\n",
    "    for i, mu_i in enumerate(mu_array):\n",
    "        for j, mu_j in enumerate(mu_array):\n",
    "            if j > i:\n",
    "                index_list.append([i+1,j+1])\n",
    "\n",
    "                # Define values and their errors\n",
    "                vx, vdx = mu_i,sigma_array[i]\n",
    "                vy, vdy = mu_j,sigma_array[j]\n",
    "            \n",
    "                # Numerically evaluate expressions and print \n",
    "                vD = np.abs(fD(vx,vy))\n",
    "                vdD = fdD(vx,vdx,vy,vdy)\n",
    "\n",
    "                D_list.append(vD)\n",
    "                sigma_D_list.append(vdD)\n",
    "\n",
    "                prop = 2 * stats.norm.cdf(-vD, 0, vdD)\n",
    "                prop_list.append(prop)\n",
    "\n",
    "    return D_list, sigma_D_list, index_list, prop_list"
   ]
  },
  {
   "cell_type": "code",
   "execution_count": 17,
   "metadata": {},
   "outputs": [
    {
     "name": "stdout",
     "output_type": "stream",
     "text": [
      "[1, 2] 0.636265305181146\n",
      "[1, 3] 0.0005835627387778286\n",
      "[1, 4] 0.012443040766606805\n",
      "[1, 5] 0.14338371427172408\n",
      "[2, 3] 0.00467385767994753\n",
      "[2, 4] 0.03239051203104419\n",
      "[2, 5] 0.15645118504198452\n",
      "[3, 4] 0.3544442446165508\n",
      "[3, 5] 0.0555674896649096\n",
      "[4, 5] 0.31997685200883286\n"
     ]
    }
   ],
   "source": [
    "dist, sigma_dist, index_list, prop_list = consistent(rho_array, sigma_rho_array)\n",
    "\n",
    "for i in range(len(prop_list)):\n",
    "    print(index_list[i], prop_list[i])"
   ]
  },
  {
   "cell_type": "code",
   "execution_count": 18,
   "metadata": {},
   "outputs": [
    {
     "data": {
      "text/plain": [
       "(5.435622634270156, 0.07415604000950009)"
      ]
     },
     "execution_count": 18,
     "metadata": {},
     "output_type": "execute_result"
    }
   ],
   "source": [
    "get_weigthed_mean(np.array([rho_array[0],rho_array[1],rho_array[4]]), np.array([sigma_rho_array[0],sigma_rho_array[1],sigma_rho_array[4]]))"
   ]
  },
  {
   "cell_type": "code",
   "execution_count": 19,
   "metadata": {},
   "outputs": [
    {
     "data": {
      "text/plain": [
       "(5.088095081085303, 0.08041629575419003)"
      ]
     },
     "execution_count": 19,
     "metadata": {},
     "output_type": "execute_result"
    }
   ],
   "source": [
    "get_weigthed_mean(np.array([rho_array[2],rho_array[3],rho_array[4]]), np.array([sigma_rho_array[2],sigma_rho_array[3],sigma_rho_array[4]]))"
   ]
  },
  {
   "cell_type": "markdown",
   "metadata": {},
   "source": [
    "The precise value is 5.514 g/cm3. How consistent is you measurement with this number?"
   ]
  },
  {
   "cell_type": "code",
   "execution_count": 20,
   "metadata": {},
   "outputs": [],
   "source": [
    "def consistent_precise(mu_array, sigma_array, mu_precise, sigma_precise):\n",
    "    D_list = []\n",
    "    sigma_D_list = []\n",
    "    index_list = []\n",
    "    prop_list = []\n",
    "\n",
    "    # Define variables:\n",
    "    x, y, D = symbols('x, y, D')\n",
    "    dx, dy, dD = symbols('sigma_x, sigma_y, sigma_D')\n",
    "\n",
    "    # Define relation:\n",
    "    D = x - y\n",
    "\n",
    "    # Calculate uncertainty:\n",
    "    dD = sqrt((D.diff(x) * dx)**2 + (D.diff(y) * dy)**2)\n",
    "\n",
    "    # Turn expression into numerical functions \n",
    "    # lambdify transform SymPy expressions to lambda functions which can be used to calculate numerical values very fast\n",
    "    fD = lambdify((x,y),D)\n",
    "    fdD = lambdify((x,dx,y,dy),dD)\n",
    "\n",
    "    for i, mu_i in enumerate(mu_array):\n",
    "        index_list.append([i+1])\n",
    "\n",
    "        # Define values and their errors\n",
    "        vx, vdx = mu_i,sigma_array[i]\n",
    "        vy, vdy = mu_precise,sigma_precise\n",
    "            \n",
    "        # Numerically evaluate expressions and print \n",
    "        vD = np.abs(fD(vx,vy))\n",
    "        vdD = fdD(vx,vdx,vy,vdy)\n",
    "\n",
    "        D_list.append(vD)\n",
    "        sigma_D_list.append(vdD)\n",
    "\n",
    "        prop = 2 * stats.norm.cdf(-vD, 0, vdD)\n",
    "        prop_list.append(prop)\n",
    "\n",
    "    return D_list, sigma_D_list, index_list, prop_list"
   ]
  },
  {
   "cell_type": "code",
   "execution_count": 21,
   "metadata": {},
   "outputs": [
    {
     "name": "stdout",
     "output_type": "stream",
     "text": [
      "[1] 0.8886599903881853\n",
      "[2] 0.6475683676310552\n",
      "[3] 2.3717861346754454e-05\n",
      "[4] 0.0015169116773216533\n",
      "[5] 0.050719414139661335\n"
     ]
    }
   ],
   "source": [
    "dist, sigma_dist, index_list, prop_list = consistent_precise(rho_array, sigma_rho_array, 5.514, 0)\n",
    "\n",
    "for i in range(len(prop_list)):\n",
    "    print(index_list[i], prop_list[i])"
   ]
  },
  {
   "cell_type": "markdown",
   "metadata": {},
   "source": [
    "### 2.3 (7 points) An ellipse E has semi-major axis a = 1.04 pm 0.27 and eccentricity e = 0.71 pm 0.12."
   ]
  },
  {
   "cell_type": "code",
   "execution_count": 22,
   "metadata": {},
   "outputs": [],
   "source": [
    "axis = 1.04\n",
    "e_axis = 0.27\n",
    "eccentricity = 0.71\n",
    "e_eccentricity = 0.12"
   ]
  },
  {
   "cell_type": "markdown",
   "metadata": {},
   "source": [
    "The area A of an ellipse is generally A = pi * a^2 * sqrt(1 - e^2). What is the area of the ellipse E?"
   ]
  },
  {
   "cell_type": "code",
   "execution_count": 23,
   "metadata": {},
   "outputs": [
    {
     "data": {
      "text/latex": [
       "$$A = \\pi a^{2} \\sqrt{1 - e^{2}}$$"
      ],
      "text/plain": [
       "<IPython.core.display.Latex object>"
      ]
     },
     "metadata": {},
     "output_type": "display_data"
    },
    {
     "data": {
      "text/latex": [
       "$$\\sigma_{A} = \\sqrt{\\frac{\\pi^{2} a^{4} e^{2} \\sigma_{e}^{2}}{1 - e^{2}} + 4 \\pi^{2} a^{2} \\sigma_{a}^{2} \\cdot \\left(1 - e^{2}\\right)}$$"
      ],
      "text/plain": [
       "<IPython.core.display.Latex object>"
      ]
     },
     "metadata": {},
     "output_type": "display_data"
    },
    {
     "data": {
      "text/latex": [
       "$$A = (2.4 \\pm 1.3)\\,\\mathrm{m}^2$$"
      ],
      "text/plain": [
       "<IPython.core.display.Latex object>"
      ]
     },
     "metadata": {},
     "output_type": "display_data"
    }
   ],
   "source": [
    "# Define variables:\n",
    "A, a, e = symbols('A, a, e')\n",
    "dA, da, de = symbols('sigma_A, sigma_a, sigma_e')\n",
    "\n",
    "# Define relation, and print:\n",
    "A = pi * a**2 * sqrt(1 - e**2)\n",
    "lprint(latex(Eq(symbols('A'), A)))\n",
    "\n",
    "# Calculate uncertainty and print:\n",
    "dA = sqrt((A.diff(a) * da)**2 + (A.diff(e) * de)**2)\n",
    "lprint(latex(Eq(symbols('sigma_A'), dA)))\n",
    "\n",
    "# Turn expression into numerical functions \n",
    "fA = lambdify((a, e), A)\n",
    "fdA = lambdify((a, da, e, de), dA)\n",
    "\n",
    "# Define values and their errors\n",
    "va, vda = axis, e_axis\n",
    "ve, vde = eccentricity, e_eccentricity\n",
    "\n",
    "# Numerically evaluate expressions and print\n",
    "vA = fA(va, ve)\n",
    "vdA = fdA(va, vda, ve, vde)\n",
    "lprint(fr'A = ({vA:.1f} \\pm {vdA:.1f})\\,\\mathrm{{m}}^{2}')"
   ]
  },
  {
   "cell_type": "markdown",
   "metadata": {},
   "source": [
    "The circumference C has no formula but can be bounded as 4 * a * sqrt(2 - e^2) < C < pi * a* sqrt(4 - 2*e^2) What value and uncertainty for C would you give?"
   ]
  },
  {
   "cell_type": "code",
   "execution_count": 24,
   "metadata": {},
   "outputs": [],
   "source": [
    "C_array = np.zeros(2)\n",
    "sigma_C_array = np.zeros(2)"
   ]
  },
  {
   "cell_type": "code",
   "execution_count": 25,
   "metadata": {},
   "outputs": [],
   "source": [
    "# Define variables:\n",
    "c, a, e = symbols('c, a, e')\n",
    "dc, da, de = symbols('sigma_c, sigma_a, sigma_e')\n",
    "\n",
    "# Define values and their errors\n",
    "va, vda = axis, e_axis\n",
    "ve, vde = eccentricity, e_eccentricity\n",
    "\n",
    "\n",
    "for i in range(len(C_array)):\n",
    "    if i % 2 == 0:\n",
    "        # Define relation\n",
    "        c = 4 * a**2 * sqrt(2 - e**2)\n",
    "\n",
    "        # Calculate uncertainty\n",
    "        dc = sqrt((c.diff(a) * da)**2 + (c.diff(e) * de)**2)\n",
    "\n",
    "        # Turn expression into numerical functions \n",
    "        fc = lambdify((a, e), c)\n",
    "        fdc = lambdify((a, da, e, de), dc)\n",
    "        \n",
    "        # Numerically evaluate expressions\n",
    "        C_array[i] = fc(va, ve)\n",
    "        sigma_C_array[i] = fdc(va, vda, ve, vde)\n",
    "    \n",
    "    if i % 2 != 0:\n",
    "        # Define relation\n",
    "        c = pi * a**2 * sqrt(4 - 2*e**2)\n",
    "\n",
    "        # Calculate uncertainty\n",
    "        dc = sqrt((c.diff(a) * da)**2 + (c.diff(e) * de)**2)\n",
    "\n",
    "        # Turn expression into numerical functions \n",
    "        fc = lambdify((a, e), c)\n",
    "        fdc = lambdify((a, da, e, de), dc)\n",
    "\n",
    "        # Numerically evaluate expressions\n",
    "        C_array[i] = fc(va, ve)\n",
    "        sigma_C_array[i] = fdc(va, vda, ve, vde)"
   ]
  },
  {
   "cell_type": "code",
   "execution_count": 26,
   "metadata": {},
   "outputs": [
    {
     "name": "stdout",
     "output_type": "stream",
     "text": [
      "Circumference: 5.553779786139386 +- 2.054130301663395\n"
     ]
    }
   ],
   "source": [
    "wC, sigma_wC = get_weigthed_mean(C_array, sigma_C_array)\n",
    "\n",
    "print('Circumference:', wC, '+-', sigma_wC)"
   ]
  },
  {
   "cell_type": "code",
   "execution_count": 27,
   "metadata": {},
   "outputs": [
    {
     "name": "stdout",
     "output_type": "stream",
     "text": [
      "Circumference: 5.584428460668343 +- 0.41427803867098095\n"
     ]
    }
   ],
   "source": [
    "C, std_C = get_mean(C_array)\n",
    "\n",
    "print('Circumference:', C, '+-', std_C)"
   ]
  }
 ],
 "metadata": {
  "kernelspec": {
   "display_name": "Python 3",
   "language": "python",
   "name": "python3"
  },
  "language_info": {
   "codemirror_mode": {
    "name": "ipython",
    "version": 3
   },
   "file_extension": ".py",
   "mimetype": "text/x-python",
   "name": "python",
   "nbconvert_exporter": "python",
   "pygments_lexer": "ipython3",
   "version": "3.10.11"
  }
 },
 "nbformat": 4,
 "nbformat_minor": 2
}
