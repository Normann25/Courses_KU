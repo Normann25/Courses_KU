{
 "cells": [
  {
   "cell_type": "markdown",
   "metadata": {},
   "source": [
    "## I. Distributions and probabilities:"
   ]
  },
  {
   "cell_type": "code",
   "execution_count": 7,
   "metadata": {},
   "outputs": [],
   "source": [
    "import numpy as np                                     # Matlab like syntax for linear algebra and functions\n",
    "import matplotlib.pyplot as plt                        # Plots and figures like you know them from Matlab\n",
    "import seaborn as sns                                  # Make the plots nicer to look at\n",
    "from iminuit import Minuit                             # The actual fitting tool, better than scipy's\n",
    "import sys                                             # Module to see files and folders in directories\n",
    "from scipy import stats\n",
    "from scipy.integrate import quad, dblquad"
   ]
  },
  {
   "cell_type": "code",
   "execution_count": 8,
   "metadata": {},
   "outputs": [],
   "source": [
    "sys.path.append('../External_Functions')\n",
    "from ExternalFunctions import nice_string_output, add_text_to_ax   # Useful functions to print fit results on figure"
   ]
  },
  {
   "cell_type": "markdown",
   "metadata": {},
   "source": [
    "### 1.1 (8 points) The scores of two tests (A & B) are both Gaussianly distributed with mu = 50, sigma = 20."
   ]
  },
  {
   "cell_type": "code",
   "execution_count": 27,
   "metadata": {},
   "outputs": [],
   "source": [
    "# Define your variables\n",
    "mu = 50\n",
    "sigma = 20\n",
    "\n",
    "save_plots = True"
   ]
  },
  {
   "cell_type": "code",
   "execution_count": 32,
   "metadata": {},
   "outputs": [],
   "source": [
    "# Define your PDF / model \n",
    "def gauss_pdf(x):\n",
    "    \"\"\"Normalized Gaussian\"\"\"\n",
    "    return 1 / np.sqrt(2 * np.pi) / sigma * np.exp(-(x - mu) ** 2 / 2. / sigma ** 2)"
   ]
  },
  {
   "cell_type": "markdown",
   "metadata": {},
   "source": [
    "What fraction of students will get a score in test A in the range [55,65]?"
   ]
  },
  {
   "cell_type": "code",
   "execution_count": 33,
   "metadata": {},
   "outputs": [
    {
     "name": "stdout",
     "output_type": "stream",
     "text": [
      "Fraction of students with a score in test A in the range [55,65]: (0.1746663219402081, 1.939185722446092e-15)\n"
     ]
    }
   ],
   "source": [
    "xmin = 55\n",
    "xmax = 65\n",
    "\n",
    "prob_55_65 = quad(gauss_pdf, xmin, xmax)\n",
    "print('Fraction of students with a score in test A in the range [55,65]:', prob_55_65)"
   ]
  },
  {
   "cell_type": "markdown",
   "metadata": {},
   "source": [
    "What uncertainty on the mean score do you obtain from 120 B test scores?"
   ]
  },
  {
   "cell_type": "code",
   "execution_count": 62,
   "metadata": {},
   "outputs": [
    {
     "name": "stdout",
     "output_type": "stream",
     "text": [
      "Error on mean: 1.8257418583505538\n"
     ]
    }
   ],
   "source": [
    "N_gauss = 120           # Number of gaussian numbers used in sum\n",
    "e_mean = sigma / np.sqrt(N_gauss)\n",
    "print('Error on mean:', e_mean)"
   ]
  },
  {
   "cell_type": "code",
   "execution_count": null,
   "metadata": {},
   "outputs": [],
   "source": [
    "# Generating numbers according to a Gaussian distribution\n",
    "x_gauss = np.random.normal(mu, sigma, N_gauss)\n",
    "x_gauss = np.round(x_gauss)"
   ]
  },
  {
   "cell_type": "code",
   "execution_count": 60,
   "metadata": {},
   "outputs": [],
   "source": [
    "bins = 20\n",
    "binwidth = 5"
   ]
  },
  {
   "cell_type": "code",
   "execution_count": 61,
   "metadata": {},
   "outputs": [
    {
     "data": {
      "image/png": "[encoded data removed]",
      "text/plain": [
       "<Figure size 630x400 with 1 Axes>"
      ]
     },
     "metadata": {},
     "output_type": "display_data"
    }
   ],
   "source": [
    "fig2, ax2 = plt.subplots(figsize=(6.3, 4));\n",
    "counts, bin_edges, _ = ax2.hist(x_gauss, bins, histtype='step', linewidth=2) #range=(xmin, xmax),\n",
    "bin_centers = (bin_edges[1:] + bin_edges[:-1])/2\n",
    "s_counts = np.sqrt(counts)"
   ]
  },
  {
   "cell_type": "markdown",
   "metadata": {},
   "source": [
    "What fraction should get a score above 70 in both tests if rho_A,B = 0? If rho_A,B = 0.75?"
   ]
  },
  {
   "cell_type": "code",
   "execution_count": 68,
   "metadata": {},
   "outputs": [],
   "source": [
    "mu_A = 50\n",
    "mu_B = 50\n",
    "sigma_A = 20\n",
    "sigma_B = 20\n",
    "rho_AB1 = 0\n",
    "rho_AB2 = 0.75"
   ]
  },
  {
   "cell_type": "code",
   "execution_count": 76,
   "metadata": {},
   "outputs": [],
   "source": [
    "f_AB1 = lambda y, x: (1 / (2*np.pi*sigma_A*sigma_B * np.sqrt(1 - rho_AB1**2))) * np.exp(-(1 / (2*(1 - rho_AB1**2)))*(((x - mu_A) / sigma_A)**2 + ((y - mu_B) / sigma_B)**2 - 2*rho_AB1*((x - mu_A) / sigma_A)*((y - mu_B) / sigma_B)))\n",
    "f_AB2 = lambda y, x: (1 / (2*np.pi*sigma_A*sigma_B * np.sqrt(1 - rho_AB2**2))) * np.exp(-(1 / (2*(1 - rho_AB2**2)))*(((x - mu_A) / sigma_A)**2 + ((y - mu_B) / sigma_B)**2 - 2*rho_AB2*((x - mu_A) / sigma_A)*((y - mu_B) / sigma_B)))"
   ]
  },
  {
   "cell_type": "code",
   "execution_count": 78,
   "metadata": {},
   "outputs": [
    {
     "name": "stdout",
     "output_type": "stream",
     "text": [
      "Fraction with a score above 70 in both tests if rho_A,B = 0: (0.025171490402173154, 1.3712975217834855e-08)\n",
      "Fraction with a score above 70 in both tests if rho_A,B = 0.75: (0.09045696991297436, 1.485956786994811e-08)\n"
     ]
    },
    {
     "name": "stderr",
     "output_type": "stream",
     "text": [
      "C:\\Users\\nan25\\AppData\\Local\\Packages\\PythonSoftwareFoundation.Python.3.10_qbz5n2kfra8p0\\LocalCache\\local-packages\\Python310\\site-packages\\scipy\\integrate\\_quadpack_py.py:1151: IntegrationWarning: The integral is probably divergent, or slowly convergent.\n",
      "  quad_r = quad(f, low, high, args=args, full_output=self.full_output,\n"
     ]
    }
   ],
   "source": [
    "Amin = 70\n",
    "Amax = np.inf\n",
    "Bmin = 70\n",
    "Bmax = np.inf\n",
    "\n",
    "prob_AB1 = dblquad(f_AB1, Amin, Amax, Bmin, Bmax)\n",
    "print('Fraction with a score above 70 in both tests if rho_A,B = 0:', prob_AB1)\n",
    "\n",
    "prob_AB2 = dblquad(f_AB2, Amin, Amax, Bmin, Bmax)\n",
    "print('Fraction with a score above 70 in both tests if rho_A,B = 0.75:', prob_AB2)"
   ]
  },
  {
   "cell_type": "markdown",
   "metadata": {},
   "source": [
    "### 1.2 (4 points) At the roulette you get 12/37 winning chances if you play douzaine (e.g. 1-12).\n",
    "\n",
    "If you play douzaine 20 times, what is the chance that you will win 8 or more times?"
   ]
  },
  {
   "cell_type": "code",
   "execution_count": 15,
   "metadata": {},
   "outputs": [],
   "source": [
    "def factorial(num):\n",
    "    factorial = 1\n",
    "\n",
    "    if num == 0:\n",
    "        factorial = 1\n",
    "    else:\n",
    "        for i in range(1, num + 1):\n",
    "            factorial = factorial*i\n",
    "    return factorial\n",
    "\n",
    "def binomial(m, n, p):\n",
    "    C = factorial(n) / (factorial(m) * factorial(n-m))\n",
    "    return p**m * (1 - p)**(n - m) * C "
   ]
  },
  {
   "cell_type": "code",
   "execution_count": 18,
   "metadata": {},
   "outputs": [
    {
     "name": "stdout",
     "output_type": "stream",
     "text": [
      "Probability of winning 8 or more times: 0.30699984091827576\n"
     ]
    }
   ],
   "source": [
    "prop = 12/37\n",
    "Try = 20\n",
    "Win = list(range(8, 21))\n",
    "prop_array = np.zeros(len(Win))\n",
    "\n",
    "for i, wins in enumerate(Win):\n",
    "    prop_array[i] += binomial(wins, Try, prop)\n",
    "\n",
    "prop_8ormore = np.sum(prop_array)\n",
    "print('Probability of winning 8 or more times:', prop_8ormore)"
   ]
  },
  {
   "cell_type": "code",
   "execution_count": 20,
   "metadata": {},
   "outputs": [
    {
     "name": "stdout",
     "output_type": "stream",
     "text": [
      "0.3069998409182757\n"
     ]
    }
   ],
   "source": [
    "print(1-stats.binom.cdf(7,20,12/37))"
   ]
  }
 ],
 "metadata": {
  "kernelspec": {
   "display_name": "Python 3",
   "language": "python",
   "name": "python3"
  },
  "language_info": {
   "codemirror_mode": {
    "name": "ipython",
    "version": 3
   },
   "file_extension": ".py",
   "mimetype": "text/x-python",
   "name": "python",
   "nbconvert_exporter": "python",
   "pygments_lexer": "ipython3",
   "version": "3.10.11"
  }
 },
 "nbformat": 4,
 "nbformat_minor": 2
}
