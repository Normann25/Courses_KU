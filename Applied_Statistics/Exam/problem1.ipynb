{
 "cells": [
  {
   "cell_type": "markdown",
   "metadata": {},
   "source": [
    "# Dstributions and Probabilities\n",
    "\n",
    "## Author(s), contact(s), and dates:\n",
    "- Author: Nan Normann Jakobsen\n",
    "- Email:  nnj@chem.ku.dk\n",
    "- Date:   18th of January 2023 (latest update)"
   ]
  },
  {
   "cell_type": "code",
   "execution_count": 3,
   "metadata": {},
   "outputs": [],
   "source": [
    "import numpy as np\n",
    "from scipy import stats"
   ]
  },
  {
   "cell_type": "markdown",
   "metadata": {},
   "source": [
    "## Problem 1.1\n",
    "### 1.1.1"
   ]
  },
  {
   "cell_type": "code",
   "execution_count": 35,
   "metadata": {},
   "outputs": [
    {
     "name": "stdout",
     "output_type": "stream",
     "text": [
      "Probability of device failing per year: 0.052000000000000005\n",
      "Probability of device NOT failing per year: 0.948\n"
     ]
    }
   ],
   "source": [
    "p1, p2, p3 = 0.009, 0.016, 0.027\n",
    "p_fail = p1 + p2 + p3\n",
    "p_succes = 1 - p_fail\n",
    "print('Probability of device failing per year:', p_fail)\n",
    "print('Probability of device NOT failing per year:', p_succes)"
   ]
  },
  {
   "cell_type": "markdown",
   "metadata": {},
   "source": [
    "### 1.1.2"
   ]
  },
  {
   "cell_type": "code",
   "execution_count": 61,
   "metadata": {},
   "outputs": [
    {
     "name": "stdout",
     "output_type": "stream",
     "text": [
      "32 0.5010791769817666\n"
     ]
    }
   ],
   "source": [
    "for i in range(2, 100):\n",
    "    p = 1 - stats.binom.cdf(1, i, p_fail)\n",
    "    if p >= 0.5:\n",
    "        print(i, p)\n",
    "        break"
   ]
  },
  {
   "cell_type": "markdown",
   "metadata": {},
   "source": [
    "## Problem 1.2\n",
    "### 1.2.2"
   ]
  },
  {
   "cell_type": "code",
   "execution_count": 50,
   "metadata": {},
   "outputs": [
    {
     "name": "stdout",
     "output_type": "stream",
     "text": [
      "Minimum number of customers constituting a busy day: 59.0\n"
     ]
    }
   ],
   "source": [
    "average_customers = 52.8\n",
    "\n",
    "busy_day = stats.poisson.ppf(0.8, average_customers)\n",
    "print('Minimum number of customers constituting a busy day:', busy_day)"
   ]
  },
  {
   "cell_type": "markdown",
   "metadata": {},
   "source": [
    "### 1.2.3"
   ]
  },
  {
   "cell_type": "code",
   "execution_count": null,
   "metadata": {},
   "outputs": [],
   "source": []
  }
 ],
 "metadata": {
  "kernelspec": {
   "display_name": "Python 3",
   "language": "python",
   "name": "python3"
  },
  "language_info": {
   "codemirror_mode": {
    "name": "ipython",
    "version": 3
   },
   "file_extension": ".py",
   "mimetype": "text/x-python",
   "name": "python",
   "nbconvert_exporter": "python",
   "pygments_lexer": "ipython3",
   "version": "3.10.11"
  }
 },
 "nbformat": 4,
 "nbformat_minor": 2
}
