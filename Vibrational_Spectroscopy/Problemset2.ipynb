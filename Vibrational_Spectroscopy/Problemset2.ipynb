{
 "cells": [
  {
   "cell_type": "code",
   "execution_count": 24,
   "metadata": {},
   "outputs": [],
   "source": [
    "import matplotlib.pyplot as plt\n",
    "import pandas as pd\n",
    "import numpy as np\n",
    "import seaborn as sns\n",
    "import scipy\n",
    "import math\n",
    "from matplotlib.ticker import (MultipleLocator, AutoMinorLocator)\n",
    "from matplotlib import rc\n",
    "from scipy.signal import find_peaks \n",
    "from cProfile import label"
   ]
  },
  {
   "cell_type": "code",
   "execution_count": 2,
   "metadata": {},
   "outputs": [],
   "source": [
    "hbar = 1.05457*10**(-34) # J*s\n",
    "c = 2.998*10**8 # m/s\n",
    "u_to_kg = 1.6605*10**(-27)\n",
    "pm_to_m = 10**(-12)\n",
    "kT = 207 # cm^-1"
   ]
  },
  {
   "cell_type": "code",
   "execution_count": null,
   "metadata": {},
   "outputs": [],
   "source": [
    "# 1) Calculate and plot a potential energy surface for HCl with your favorite electronic structure method"
   ]
  },
  {
   "cell_type": "code",
   "execution_count": null,
   "metadata": {},
   "outputs": [],
   "source": [
    "# 2) Find the harmonic oscillator energy levels of HCl"
   ]
  },
  {
   "cell_type": "code",
   "execution_count": null,
   "metadata": {},
   "outputs": [],
   "source": [
    "# 5a) Write a code that calculates anharmonic energy levels using the above expressions and the effect of the\n",
    "#     step-up and step-down operators. You can limit the expansion to terms with m ≤ 4"
   ]
  },
  {
   "cell_type": "code",
   "execution_count": 11,
   "metadata": {},
   "outputs": [
    {
     "name": "stdout",
     "output_type": "stream",
     "text": [
      "[[-1 -1 -1 -1]\n",
      " [ 1 -1 -1 -1]\n",
      " [-1  1 -1 -1]\n",
      " [ 1  1 -1 -1]\n",
      " [-1 -1  1 -1]\n",
      " [ 1 -1  1 -1]\n",
      " [-1  1  1 -1]\n",
      " [ 1  1  1 -1]\n",
      " [-1 -1 -1  1]\n",
      " [ 1 -1 -1  1]\n",
      " [-1  1 -1  1]\n",
      " [ 1  1 -1  1]\n",
      " [-1 -1  1  1]\n",
      " [ 1 -1  1  1]\n",
      " [-1  1  1  1]\n",
      " [ 1  1  1  1]]\n"
     ]
    }
   ],
   "source": [
    "def makeA(n):\n",
    "    nums = np.arange(0, 2**n, 1, dtype=int)\n",
    "    A = ((nums.reshape(-1, 1) & (2**np.arange(n))) != 0).astype(int)\n",
    "    A[A==0] = -1\n",
    "    return A\n",
    "\n",
    "order = 4\n",
    "\n",
    "A = makeA(order) #Example\n",
    "print(A) #Print example"
   ]
  },
  {
   "cell_type": "code",
   "execution_count": null,
   "metadata": {},
   "outputs": [],
   "source": [
    "# Write a function that inputs a row in the A-matrix and a (ket) quantum number. The output should\n",
    "# be the constant in front of the resulting state."
   ]
  },
  {
   "cell_type": "code",
   "execution_count": 18,
   "metadata": {},
   "outputs": [
    {
     "name": "stdout",
     "output_type": "stream",
     "text": [
      "0 0\n"
     ]
    }
   ],
   "source": [
    "def up_down_operator(A_row, v):\n",
    "    scalar = 1\n",
    "    state = v\n",
    "    for A in A_row:\n",
    "        if A == -1:\n",
    "            if state == 0:\n",
    "                return 0, 0\n",
    "            else:\n",
    "                scalar *= np.sqrt(state)\n",
    "                state += A\n",
    "        else:\n",
    "            scalar *=np.sqrt(state+1)\n",
    "            state +=A\n",
    "    return scalar, state\n",
    "\n",
    "constant, state = up_down_operator(A[12], 0)\n",
    "print(constant, state)"
   ]
  },
  {
   "cell_type": "code",
   "execution_count": null,
   "metadata": {},
   "outputs": [],
   "source": [
    "# Write a function that generates a matrix for each order of (a† + a)^m for m ≥ 3 (the M-matrices). Start\n",
    "# by generating empty matrix of size nbasis × nbasis, where nbasis is the number of basis functions. The\n",
    "# basis will be: {|v⟩} = {|0⟩, |1⟩, |2⟩, ..., |nbasis⟩}. Then loop over all elements of the M-matrices, and insert\n",
    "# the appropriate values obtained by applying the step-up and step-down operators in the matrix A (which\n",
    "# depends on the order, m)."
   ]
  },
  {
   "cell_type": "code",
   "execution_count": 21,
   "metadata": {},
   "outputs": [],
   "source": [
    "nbasis = 4\n",
    "\n",
    "def makeM(nbasis, max_order):\n",
    "    matrix_M = np.zeros((nbasis, nbasis))\n",
    "    matrix_A = makeA(max_order)\n",
    "    for row in matrix_A:\n",
    "        temp_matrixM = np.zeros_like(matrix_M)\n",
    "        for i in range(nbasis):\n",
    "            for j in range(nbasis):\n",
    "                scalar, acted_state = up_down_operator(row, i)\n",
    "                if acted_state == j:\n",
    "                    temp_matrixM[i][j] = scalar\n",
    "        matrix_M += temp_matrixM\n",
    "        # print(temp_matrixM)\n",
    "    return matrix_M"
   ]
  },
  {
   "cell_type": "code",
   "execution_count": 22,
   "metadata": {},
   "outputs": [
    {
     "name": "stdout",
     "output_type": "stream",
     "text": [
      "[[ 3.          0.          8.48528137  0.        ]\n",
      " [ 0.         15.          0.         24.49489743]\n",
      " [ 8.48528137  0.         39.          0.        ]\n",
      " [ 0.         24.49489743  0.         75.        ]]\n"
     ]
    }
   ],
   "source": [
    "test_M = makeM(nbasis, 4)\n",
    "print(test_M)"
   ]
  },
  {
   "cell_type": "code",
   "execution_count": null,
   "metadata": {},
   "outputs": [],
   "source": [
    "# Add together the matrices for each order, with the multiplication factors in Eq. 1.2. \n",
    "# Remember that the order of the operators matter, a†a ̸= aa†"
   ]
  },
  {
   "cell_type": "code",
   "execution_count": null,
   "metadata": {},
   "outputs": [],
   "source": [
    "def M_sum(omega, nbasis, max_order):\n",
    "    M2 = hbar*omega*makeM(nbasis, 2)\n",
    "    for order in range(3, max_order+1):\n",
    "        matrixM = (1/math.factorial(order))*F(order)*((q_c/np.sqrt(2))**(order))*makeM(nbasis, order)\n",
    "        "
   ]
  },
  {
   "cell_type": "code",
   "execution_count": null,
   "metadata": {},
   "outputs": [],
   "source": [
    "# Diagonalize H = M2 +M3 +M4 + ..."
   ]
  }
 ],
 "metadata": {
  "kernelspec": {
   "display_name": "Python 3",
   "language": "python",
   "name": "python3"
  },
  "language_info": {
   "codemirror_mode": {
    "name": "ipython",
    "version": 3
   },
   "file_extension": ".py",
   "mimetype": "text/x-python",
   "name": "python",
   "nbconvert_exporter": "python",
   "pygments_lexer": "ipython3",
   "version": "3.10.11"
  },
  "orig_nbformat": 4,
  "vscode": {
   "interpreter": {
    "hash": "0b8e740bacd96bdec367b692aed50949d909799f61a534f670643a2d03c9b3a8"
   }
  }
 },
 "nbformat": 4,
 "nbformat_minor": 2
}
